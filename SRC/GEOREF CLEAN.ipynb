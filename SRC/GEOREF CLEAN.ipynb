{
 "cells": [
  {
   "attachments": {},
   "cell_type": "markdown",
   "metadata": {},
   "source": [
    "## Limpieza rapida de los archivos Shapefile con limites territoriales tanto de los municipios(colonias) y las alcaldias"
   ]
  },
  {
   "cell_type": "code",
   "execution_count": 43,
   "metadata": {},
   "outputs": [],
   "source": [
    "import geopandas as gpd\n",
    "import re\n",
    "import pandas as pd\n",
    "from copy_repo_funciones import *\n",
    "import warnings\n",
    "warnings.filterwarnings('ignore')\n",
    "pd.set_option('display.max_columns', None)\n",
    "pd.set_option('display.max_rows', None)"
   ]
  },
  {
   "cell_type": "code",
   "execution_count": 8,
   "metadata": {},
   "outputs": [],
   "source": [
    "geo= gpd.read_file('../FINAL/RAW/GEOREF/georef-mexico-colonia/georef-mexico-colonia-millesime.shp', encoding='utf-8')"
   ]
  },
  {
   "cell_type": "code",
   "execution_count": 14,
   "metadata": {},
   "outputs": [
    {
     "data": {
      "text/html": [
       "<div>\n",
       "<style scoped>\n",
       "    .dataframe tbody tr th:only-of-type {\n",
       "        vertical-align: middle;\n",
       "    }\n",
       "\n",
       "    .dataframe tbody tr th {\n",
       "        vertical-align: top;\n",
       "    }\n",
       "\n",
       "    .dataframe thead th {\n",
       "        text-align: right;\n",
       "    }\n",
       "</style>\n",
       "<table border=\"1\" class=\"dataframe\">\n",
       "  <thead>\n",
       "    <tr style=\"text-align: right;\">\n",
       "      <th></th>\n",
       "      <th>year</th>\n",
       "      <th>sta_code</th>\n",
       "      <th>sta_name</th>\n",
       "      <th>mun_code</th>\n",
       "      <th>mun_name</th>\n",
       "      <th>col_code</th>\n",
       "      <th>col_name</th>\n",
       "      <th>col_area_co</th>\n",
       "      <th>col_type</th>\n",
       "      <th>geometry</th>\n",
       "    </tr>\n",
       "  </thead>\n",
       "  <tbody>\n",
       "    <tr>\n",
       "      <th>0</th>\n",
       "      <td>2022</td>\n",
       "      <td>09</td>\n",
       "      <td>Ciudad de México</td>\n",
       "      <td>09002</td>\n",
       "      <td>Azcapotzalco</td>\n",
       "      <td>02-009</td>\n",
       "      <td>Coltongo</td>\n",
       "      <td>MEX</td>\n",
       "      <td>colonia</td>\n",
       "      <td>POLYGON ((-99.15595 19.48651, -99.15294 19.485...</td>\n",
       "    </tr>\n",
       "    <tr>\n",
       "      <th>1</th>\n",
       "      <td>2022</td>\n",
       "      <td>09</td>\n",
       "      <td>Ciudad de México</td>\n",
       "      <td>09003</td>\n",
       "      <td>Coyoacán</td>\n",
       "      <td>03-006</td>\n",
       "      <td>Ampliacion Candelaria</td>\n",
       "      <td>MEX</td>\n",
       "      <td>colonia</td>\n",
       "      <td>POLYGON ((-99.15265 19.32581, -99.15336 19.326...</td>\n",
       "    </tr>\n",
       "    <tr>\n",
       "      <th>2</th>\n",
       "      <td>2022</td>\n",
       "      <td>09</td>\n",
       "      <td>Ciudad de México</td>\n",
       "      <td>09003</td>\n",
       "      <td>Coyoacán</td>\n",
       "      <td>03-026</td>\n",
       "      <td>Croc Culhuacan Secc 6 (U Hab)</td>\n",
       "      <td>MEX</td>\n",
       "      <td>colonia</td>\n",
       "      <td>POLYGON ((-99.12251 19.32904, -99.12198 19.329...</td>\n",
       "    </tr>\n",
       "    <tr>\n",
       "      <th>3</th>\n",
       "      <td>2022</td>\n",
       "      <td>09</td>\n",
       "      <td>Ciudad de México</td>\n",
       "      <td>09003</td>\n",
       "      <td>Coyoacán</td>\n",
       "      <td>03-072</td>\n",
       "      <td>Los Cipreses</td>\n",
       "      <td>MEX</td>\n",
       "      <td>colonia</td>\n",
       "      <td>POLYGON ((-99.12466 19.31520, -99.12491 19.315...</td>\n",
       "    </tr>\n",
       "    <tr>\n",
       "      <th>4</th>\n",
       "      <td>2022</td>\n",
       "      <td>09</td>\n",
       "      <td>Ciudad de México</td>\n",
       "      <td>09004</td>\n",
       "      <td>Cuajimalpa de Morelos</td>\n",
       "      <td>04-033</td>\n",
       "      <td>Lomas Del Chamizal</td>\n",
       "      <td>MEX</td>\n",
       "      <td>colonia</td>\n",
       "      <td>POLYGON ((-99.26654 19.38314, -99.26658 19.383...</td>\n",
       "    </tr>\n",
       "  </tbody>\n",
       "</table>\n",
       "</div>"
      ],
      "text/plain": [
       "   year sta_code          sta_name mun_code               mun_name col_code   \n",
       "0  2022       09  Ciudad de México    09002           Azcapotzalco   02-009  \\\n",
       "1  2022       09  Ciudad de México    09003               Coyoacán   03-006   \n",
       "2  2022       09  Ciudad de México    09003               Coyoacán   03-026   \n",
       "3  2022       09  Ciudad de México    09003               Coyoacán   03-072   \n",
       "4  2022       09  Ciudad de México    09004  Cuajimalpa de Morelos   04-033   \n",
       "\n",
       "                        col_name col_area_co col_type   \n",
       "0                       Coltongo         MEX  colonia  \\\n",
       "1          Ampliacion Candelaria         MEX  colonia   \n",
       "2  Croc Culhuacan Secc 6 (U Hab)         MEX  colonia   \n",
       "3                   Los Cipreses         MEX  colonia   \n",
       "4             Lomas Del Chamizal         MEX  colonia   \n",
       "\n",
       "                                            geometry  \n",
       "0  POLYGON ((-99.15595 19.48651, -99.15294 19.485...  \n",
       "1  POLYGON ((-99.15265 19.32581, -99.15336 19.326...  \n",
       "2  POLYGON ((-99.12251 19.32904, -99.12198 19.329...  \n",
       "3  POLYGON ((-99.12466 19.31520, -99.12491 19.315...  \n",
       "4  POLYGON ((-99.26654 19.38314, -99.26658 19.383...  "
      ]
     },
     "execution_count": 14,
     "metadata": {},
     "output_type": "execute_result"
    }
   ],
   "source": [
    "geo.head()"
   ]
  },
  {
   "cell_type": "code",
   "execution_count": 10,
   "metadata": {},
   "outputs": [],
   "source": [
    "geo['col_name'] = geo['col_name'].str.replace(r\"[\\[\\]']\", '', regex=True)\n",
    "geo['sta_code'] = geo['sta_code'].str.replace(r\"[\\[\\]']\", '', regex=True)\n",
    "geo['sta_namee'] = geo['sta_name'].str.replace(r\"[\\[\\]']\", '', regex=True)"
   ]
  },
  {
   "cell_type": "code",
   "execution_count": 13,
   "metadata": {},
   "outputs": [],
   "source": [
    "geo = geo.apply(lambda x: x.str.replace(r\"[\\[\\]']\", '', regex=True) if x.dtype == 'object' else x)"
   ]
  },
  {
   "cell_type": "code",
   "execution_count": 16,
   "metadata": {},
   "outputs": [
    {
     "name": "stderr",
     "output_type": "stream",
     "text": [
      "C:\\Users\\anton\\AppData\\Local\\Temp\\ipykernel_11828\\3943655620.py:1: UserWarning: Column names longer than 10 characters will be truncated when saved to ESRI Shapefile.\n",
      "  geo.to_file('../FINAL/modified_geo.shp')\n"
     ]
    }
   ],
   "source": [
    "geo.to_file('../FINAL/modified_geo.shp')"
   ]
  },
  {
   "attachments": {},
   "cell_type": "markdown",
   "metadata": {},
   "source": [
    "### TANDEO\n",
    "\n",
    "A Tandeo hay que agregarle ID de la colonia para las relaciones cardinales en Tableau"
   ]
  },
  {
   "cell_type": "code",
   "execution_count": 29,
   "metadata": {},
   "outputs": [],
   "source": [
    "tandeo=gpd.read_file('../CLEAN/TABLEAU/tandeo2019.shp', encoding='utf-8')"
   ]
  },
  {
   "cell_type": "code",
   "execution_count": 32,
   "metadata": {},
   "outputs": [
    {
     "data": {
      "text/html": [
       "<div>\n",
       "<style scoped>\n",
       "    .dataframe tbody tr th:only-of-type {\n",
       "        vertical-align: middle;\n",
       "    }\n",
       "\n",
       "    .dataframe tbody tr th {\n",
       "        vertical-align: top;\n",
       "    }\n",
       "\n",
       "    .dataframe thead th {\n",
       "        text-align: right;\n",
       "    }\n",
       "</style>\n",
       "<table border=\"1\" class=\"dataframe\">\n",
       "  <thead>\n",
       "    <tr style=\"text-align: right;\">\n",
       "      <th></th>\n",
       "      <th>ID</th>\n",
       "      <th>ENTIDAD</th>\n",
       "      <th>MUNICIPIO</th>\n",
       "      <th>NOMBRE</th>\n",
       "      <th>DELEGACIO</th>\n",
       "      <th>tnd_2019</th>\n",
       "      <th>geometry</th>\n",
       "    </tr>\n",
       "  </thead>\n",
       "  <tbody>\n",
       "    <tr>\n",
       "      <th>0</th>\n",
       "      <td>2059</td>\n",
       "      <td>9</td>\n",
       "      <td>13</td>\n",
       "      <td>DIF</td>\n",
       "      <td>Xochimilco</td>\n",
       "      <td>no</td>\n",
       "      <td>POLYGON ((-99.09734 19.24389, -99.09614 19.243...</td>\n",
       "    </tr>\n",
       "    <tr>\n",
       "      <th>1</th>\n",
       "      <td>1</td>\n",
       "      <td>9</td>\n",
       "      <td>2</td>\n",
       "      <td>SAN ALVARO</td>\n",
       "      <td>Azcapotzalco</td>\n",
       "      <td>no</td>\n",
       "      <td>POLYGON ((-99.18803 19.46367, -99.18668 19.463...</td>\n",
       "    </tr>\n",
       "    <tr>\n",
       "      <th>2</th>\n",
       "      <td>1033</td>\n",
       "      <td>9</td>\n",
       "      <td>12</td>\n",
       "      <td>XITLE</td>\n",
       "      <td>Tlalpan</td>\n",
       "      <td>no</td>\n",
       "      <td>POLYGON ((-99.18350 19.25851, -99.18314 19.258...</td>\n",
       "    </tr>\n",
       "    <tr>\n",
       "      <th>3</th>\n",
       "      <td>2060</td>\n",
       "      <td>9</td>\n",
       "      <td>13</td>\n",
       "      <td>SAN JUAN DE LOS LAGOS(TEZONTITLA)</td>\n",
       "      <td>Xochimilco</td>\n",
       "      <td>no</td>\n",
       "      <td>POLYGON ((-99.11681 19.21855, -99.11656 19.218...</td>\n",
       "    </tr>\n",
       "    <tr>\n",
       "      <th>4</th>\n",
       "      <td>2</td>\n",
       "      <td>9</td>\n",
       "      <td>2</td>\n",
       "      <td>SAN SALVADOR XOCHIMANCA</td>\n",
       "      <td>Azcapotzalco</td>\n",
       "      <td>no</td>\n",
       "      <td>POLYGON ((-99.17763 19.46195, -99.17699 19.461...</td>\n",
       "    </tr>\n",
       "  </tbody>\n",
       "</table>\n",
       "</div>"
      ],
      "text/plain": [
       "     ID ENTIDAD MUNICIPIO                             NOMBRE     DELEGACIO   \n",
       "0  2059       9        13                                DIF    Xochimilco  \\\n",
       "1     1       9         2                         SAN ALVARO  Azcapotzalco   \n",
       "2  1033       9        12                              XITLE       Tlalpan   \n",
       "3  2060       9        13  SAN JUAN DE LOS LAGOS(TEZONTITLA)    Xochimilco   \n",
       "4     2       9         2            SAN SALVADOR XOCHIMANCA  Azcapotzalco   \n",
       "\n",
       "  tnd_2019                                           geometry  \n",
       "0       no  POLYGON ((-99.09734 19.24389, -99.09614 19.243...  \n",
       "1       no  POLYGON ((-99.18803 19.46367, -99.18668 19.463...  \n",
       "2       no  POLYGON ((-99.18350 19.25851, -99.18314 19.258...  \n",
       "3       no  POLYGON ((-99.11681 19.21855, -99.11656 19.218...  \n",
       "4       no  POLYGON ((-99.17763 19.46195, -99.17699 19.461...  "
      ]
     },
     "execution_count": 32,
     "metadata": {},
     "output_type": "execute_result"
    }
   ],
   "source": [
    "tandeo.head()"
   ]
  },
  {
   "cell_type": "code",
   "execution_count": 31,
   "metadata": {},
   "outputs": [],
   "source": [
    "tandeo['DELEGACIO'] = tandeo['DELEGACIO'].str.title()"
   ]
  },
  {
   "cell_type": "code",
   "execution_count": 33,
   "metadata": {},
   "outputs": [],
   "source": [
    "tandeo.loc[tandeo['DELEGACIO']=='Coyoacan', 'DELEGACIO']='Coyoacán'\n",
    "tandeo.loc[tandeo['DELEGACIO']=='Alvaro Obregon', 'DELEGACIO']='Álvaro Obregón'\n",
    "tandeo.loc[tandeo['DELEGACIO']=='Tlahuac', 'DELEGACIO']='Tláhuac'\n",
    "tandeo.loc[tandeo['DELEGACIO']=='Benito Juarez', 'DELEGACIO']='Benito Juárez'\n",
    "tandeo.loc[tandeo['DELEGACIO'] == 'Cuauhtemoc', 'DELEGACIO'] = 'Cuauhtémoc'\n",
    "tandeo.loc[tandeo['DELEGACIO'] == 'Magdalena Contreras', 'DELEGACIO'] = 'La Magdalena Contreras'"
   ]
  },
  {
   "cell_type": "code",
   "execution_count": 47,
   "metadata": {},
   "outputs": [
    {
     "data": {
      "text/plain": [
       "DELEGACIO\n",
       "Iztapalapa                375\n",
       "Álvaro Obregón            313\n",
       "Tlalpan                   300\n",
       "Gustavo A. Madero         281\n",
       "Tláhuac                   220\n",
       "Xochimilco                195\n",
       "Coyoacán                  142\n",
       "Azcapotzalco              111\n",
       "Venustiano Carranza        91\n",
       "Miguel Hidalgo             80\n",
       "Cuajimalpa de Morelos      65\n",
       "Benito Juárez              57\n",
       "La Magdalena Contreras     51\n",
       "Iztacalco                  47\n",
       "Milpa Alta                 38\n",
       "Cuauhtémoc                 33\n",
       "Name: count, dtype: int64"
      ]
     },
     "execution_count": 47,
     "metadata": {},
     "output_type": "execute_result"
    }
   ],
   "source": [
    "tandeo['DELEGACIO'].value_counts()"
   ]
  },
  {
   "cell_type": "code",
   "execution_count": 46,
   "metadata": {},
   "outputs": [],
   "source": [
    "tandeo.loc[tandeo['DELEGACIO']=='Cuajimalpa De Morelos', 'DELEGACIO']='Cuajimalpa de Morelos'"
   ]
  },
  {
   "cell_type": "code",
   "execution_count": 48,
   "metadata": {},
   "outputs": [],
   "source": [
    "tandeo.to_file('../CLEAN/TABLEAU/tandeo2019.shp')"
   ]
  },
  {
   "attachments": {},
   "cell_type": "markdown",
   "metadata": {},
   "source": [
    "### INTENTANDO SACAR POBLACION POR COLONIA\n",
    "\n",
    "Vale no esta bien este archivo"
   ]
  },
  {
   "cell_type": "code",
   "execution_count": 49,
   "metadata": {},
   "outputs": [],
   "source": [
    "pob=pd.read_csv('../RAW/CENSOS INEGI/conjunto_de_datos_iter_09CSV20.csv')\n"
   ]
  },
  {
   "cell_type": "code",
   "execution_count": 52,
   "metadata": {},
   "outputs": [
    {
     "data": {
      "text/plain": [
       "NOM_MUN\n",
       "Milpa Alta                              247\n",
       "Tlalpan                                 167\n",
       "Xochimilco                              114\n",
       "Tláhuac                                  55\n",
       "Cuajimalpa de Morelos                    27\n",
       "La Magdalena Contreras                   26\n",
       "Álvaro Obregón                            9\n",
       "Total de la entidad Ciudad de México      3\n",
       "Azcapotzalco                              2\n",
       "Iztapalapa                                2\n",
       "Iztacalco                                 2\n",
       "Gustavo A. Madero                         2\n",
       "Coyoacán                                  2\n",
       "Benito Juárez                             2\n",
       "Cuauhtémoc                                2\n",
       "Miguel Hidalgo                            2\n",
       "Venustiano Carranza                       2\n",
       "Name: count, dtype: int64"
      ]
     },
     "execution_count": 52,
     "metadata": {},
     "output_type": "execute_result"
    }
   ],
   "source": [
    "pob['NOM_MUN'].value_counts()"
   ]
  },
  {
   "attachments": {},
   "cell_type": "markdown",
   "metadata": {},
   "source": [
    "### Limpieza archivo escuelas publicas"
   ]
  },
  {
   "cell_type": "code",
   "execution_count": 54,
   "metadata": {},
   "outputs": [],
   "source": [
    "escuelas=pd.read_csv('../RAW/ESCUELAS/escuelas_publicas.csv', encoding='utf-8')"
   ]
  },
  {
   "cell_type": "code",
   "execution_count": 55,
   "metadata": {},
   "outputs": [
    {
     "name": "stdout",
     "output_type": "stream",
     "text": [
      "<class 'pandas.core.frame.DataFrame'>\n",
      "RangeIndex: 2383 entries, 0 to 2382\n",
      "Data columns (total 6 columns):\n",
      " #   Column     Non-Null Count  Dtype  \n",
      "---  ------     --------------  -----  \n",
      " 0   nombre     2383 non-null   object \n",
      " 1   domicilio  2347 non-null   object \n",
      " 2   colonia    2231 non-null   object \n",
      " 3   alcaldia   2231 non-null   object \n",
      " 4   latitud    2242 non-null   float64\n",
      " 5   longitud   2244 non-null   float64\n",
      "dtypes: float64(2), object(4)\n",
      "memory usage: 111.8+ KB\n"
     ]
    }
   ],
   "source": [
    "escuelas.info()"
   ]
  },
  {
   "cell_type": "code",
   "execution_count": null,
   "metadata": {},
   "outputs": [],
   "source": [
    "#limpieza alcaldias"
   ]
  },
  {
   "cell_type": "code",
   "execution_count": 57,
   "metadata": {},
   "outputs": [],
   "source": [
    "escuelas['alcaldia'] = escuelas['alcaldia'].str.title()"
   ]
  },
  {
   "cell_type": "code",
   "execution_count": 59,
   "metadata": {},
   "outputs": [],
   "source": [
    "escuelas.loc[escuelas['alcaldia'] == 'Coyoacan', 'alcaldia'] = 'Coyoacán'\n",
    "escuelas.loc[escuelas['alcaldia'] == 'Alvaro Obregon', 'alcaldia'] = 'Álvaro Obregón'\n",
    "escuelas.loc[escuelas['alcaldia'] == 'Tlahuac', 'alcaldia'] = 'Tláhuac'\n",
    "escuelas.loc[escuelas['alcaldia'] == 'Benito Juarez', 'alcaldia'] = 'Benito Juárez'\n",
    "escuelas.loc[escuelas['alcaldia'] == 'Cuauhtemoc', 'alcaldia'] = 'Cuauhtémoc'\n",
    "escuelas.loc[escuelas['alcaldia'] == 'Magdalena Contreras', 'alcaldia'] = 'La Magdalena Contreras'\n",
    "escuelas.loc[escuelas['alcaldia'] == 'Cuajimalpa De Morelos', 'alcaldia'] = 'Cuajimalpa de Morelos'"
   ]
  },
  {
   "attachments": {},
   "cell_type": "markdown",
   "metadata": {},
   "source": [
    "Usaremos Shapely para sacar las colonias y sus IDS"
   ]
  },
  {
   "cell_type": "code",
   "execution_count": 61,
   "metadata": {},
   "outputs": [],
   "source": [
    "geo=gpd.read_file('../CLEAN/TABLEAU/modified_geo.shp')"
   ]
  },
  {
   "cell_type": "code",
   "execution_count": 62,
   "metadata": {},
   "outputs": [],
   "source": [
    "from shapely.geometry import Point, Polygon\n",
    "\n",
    "\n",
    "for index, row in escuelas.iterrows():\n",
    "     lat = row['latitud']\n",
    "     lon = row['longitud']\n",
    "    \n",
    "\n",
    "     point = Point(lon, lat)\n",
    "    \n",
    "\n",
    "     colonia_name = None\n",
    "    \n",
    " \n",
    "     for _, polygon in geo.iterrows():\n",
    "\n",
    "         if polygon['geometry'].contains(point):\n",
    "\n",
    "             colonia_name = polygon['col_name']\n",
    "             break \n",
    "    \n",
    "   \n",
    "     escuelas.at[index, 'Colonia name'] = colonia_name"
   ]
  },
  {
   "cell_type": "code",
   "execution_count": 65,
   "metadata": {},
   "outputs": [
    {
     "data": {
      "text/plain": [
       "colonia         152\n",
       "alcaldia        152\n",
       "Colonia name    146\n",
       "latitud         141\n",
       "longitud        139\n",
       "domicilio        36\n",
       "dtype: int64"
      ]
     },
     "execution_count": 65,
     "metadata": {},
     "output_type": "execute_result"
    }
   ],
   "source": [
    "nancols(escuelas)"
   ]
  },
  {
   "cell_type": "code",
   "execution_count": 66,
   "metadata": {},
   "outputs": [],
   "source": [
    "escuelas.dropna(subset=['latitud'], inplace=True)\n"
   ]
  },
  {
   "cell_type": "code",
   "execution_count": 68,
   "metadata": {},
   "outputs": [],
   "source": [
    "escuelas.dropna(subset=['colonia'], inplace=True)"
   ]
  },
  {
   "cell_type": "code",
   "execution_count": 69,
   "metadata": {},
   "outputs": [
    {
     "data": {
      "text/plain": [
       "domicilio    36\n",
       "dtype: int64"
      ]
     },
     "execution_count": 69,
     "metadata": {},
     "output_type": "execute_result"
    }
   ],
   "source": [
    "nancols(escuelas)"
   ]
  },
  {
   "cell_type": "code",
   "execution_count": 71,
   "metadata": {},
   "outputs": [],
   "source": [
    "escuelas['nombre'] = escuelas['nombre'].str.lower()"
   ]
  },
  {
   "cell_type": "code",
   "execution_count": 75,
   "metadata": {},
   "outputs": [],
   "source": [
    "escuelas['nivel escolar'] = ''  \n",
    "\n",
    "for index, row in escuelas.iterrows():\n",
    "    nombre = row['nombre']\n",
    "    if 'secundaria' in nombre:\n",
    "        escuelas.at[index, 'nivel escolar'] = 'Secundaria'\n",
    "    elif 'primaria' in nombre:\n",
    "        escuelas.at[index, 'nivel escolar'] = 'Primaria'\n",
    "    elif 'preescolar' in nombre:\n",
    "        escuelas.at[index, 'nivel escolar'] = 'Preescolar'\n"
   ]
  },
  {
   "cell_type": "code",
   "execution_count": 84,
   "metadata": {},
   "outputs": [
    {
     "data": {
      "text/plain": [
       "domicilio    36\n",
       "dtype: int64"
      ]
     },
     "execution_count": 84,
     "metadata": {},
     "output_type": "execute_result"
    }
   ],
   "source": [
    "nancols(escuelas)"
   ]
  },
  {
   "cell_type": "code",
   "execution_count": 85,
   "metadata": {},
   "outputs": [
    {
     "data": {
      "text/html": [
       "<div>\n",
       "<style scoped>\n",
       "    .dataframe tbody tr th:only-of-type {\n",
       "        vertical-align: middle;\n",
       "    }\n",
       "\n",
       "    .dataframe tbody tr th {\n",
       "        vertical-align: top;\n",
       "    }\n",
       "\n",
       "    .dataframe thead th {\n",
       "        text-align: right;\n",
       "    }\n",
       "</style>\n",
       "<table border=\"1\" class=\"dataframe\">\n",
       "  <thead>\n",
       "    <tr style=\"text-align: right;\">\n",
       "      <th></th>\n",
       "      <th>nivel escolar</th>\n",
       "      <th>Count</th>\n",
       "    </tr>\n",
       "  </thead>\n",
       "  <tbody>\n",
       "    <tr>\n",
       "      <th>0</th>\n",
       "      <td>Primaria</td>\n",
       "      <td>1134</td>\n",
       "    </tr>\n",
       "    <tr>\n",
       "      <th>1</th>\n",
       "      <td>Preescolar</td>\n",
       "      <td>643</td>\n",
       "    </tr>\n",
       "    <tr>\n",
       "      <th>2</th>\n",
       "      <td>Secundaria</td>\n",
       "      <td>444</td>\n",
       "    </tr>\n",
       "    <tr>\n",
       "      <th>3</th>\n",
       "      <td></td>\n",
       "      <td>10</td>\n",
       "    </tr>\n",
       "  </tbody>\n",
       "</table>\n",
       "</div>"
      ],
      "text/plain": [
       "  nivel escolar  Count\n",
       "0      Primaria   1134\n",
       "1    Preescolar    643\n",
       "2    Secundaria    444\n",
       "3                   10"
      ]
     },
     "execution_count": 85,
     "metadata": {},
     "output_type": "execute_result"
    }
   ],
   "source": [
    "col_unique_counts(escuelas, 'nivel escolar')"
   ]
  },
  {
   "cell_type": "code",
   "execution_count": 78,
   "metadata": {},
   "outputs": [],
   "source": [
    "escuelas['nombre'] = escuelas['nombre'].str.title()\n",
    "escuelas['domicilio'] = escuelas['domicilio'].str.title()\n",
    "escuelas.drop(columns=['colonia'], inplace=True)\n"
   ]
  },
  {
   "cell_type": "code",
   "execution_count": 87,
   "metadata": {},
   "outputs": [],
   "source": [
    "#escuelas"
   ]
  },
  {
   "cell_type": "code",
   "execution_count": 80,
   "metadata": {},
   "outputs": [],
   "source": [
    "escuelas.to_csv('../CLEAN/TABLEAU/escuelas_publicas.csv')"
   ]
  }
 ],
 "metadata": {
  "kernelspec": {
   "display_name": "Python 3",
   "language": "python",
   "name": "python3"
  },
  "language_info": {
   "codemirror_mode": {
    "name": "ipython",
    "version": 3
   },
   "file_extension": ".py",
   "mimetype": "text/x-python",
   "name": "python",
   "nbconvert_exporter": "python",
   "pygments_lexer": "ipython3",
   "version": "3.11.2"
  },
  "orig_nbformat": 4
 },
 "nbformat": 4,
 "nbformat_minor": 2
}
