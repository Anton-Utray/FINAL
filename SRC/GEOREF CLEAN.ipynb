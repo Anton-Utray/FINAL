{
 "cells": [
  {
   "cell_type": "code",
   "execution_count": 7,
   "metadata": {},
   "outputs": [],
   "source": [
    "import geopandas as gpd\n",
    "import re"
   ]
  },
  {
   "cell_type": "code",
   "execution_count": 8,
   "metadata": {},
   "outputs": [],
   "source": [
    "geo= gpd.read_file('../FINAL/RAW/GEOREF/georef-mexico-colonia/georef-mexico-colonia-millesime.shp', encoding='utf-8')"
   ]
  },
  {
   "cell_type": "code",
   "execution_count": 14,
   "metadata": {},
   "outputs": [
    {
     "data": {
      "text/html": [
       "<div>\n",
       "<style scoped>\n",
       "    .dataframe tbody tr th:only-of-type {\n",
       "        vertical-align: middle;\n",
       "    }\n",
       "\n",
       "    .dataframe tbody tr th {\n",
       "        vertical-align: top;\n",
       "    }\n",
       "\n",
       "    .dataframe thead th {\n",
       "        text-align: right;\n",
       "    }\n",
       "</style>\n",
       "<table border=\"1\" class=\"dataframe\">\n",
       "  <thead>\n",
       "    <tr style=\"text-align: right;\">\n",
       "      <th></th>\n",
       "      <th>year</th>\n",
       "      <th>sta_code</th>\n",
       "      <th>sta_name</th>\n",
       "      <th>mun_code</th>\n",
       "      <th>mun_name</th>\n",
       "      <th>col_code</th>\n",
       "      <th>col_name</th>\n",
       "      <th>col_area_co</th>\n",
       "      <th>col_type</th>\n",
       "      <th>geometry</th>\n",
       "    </tr>\n",
       "  </thead>\n",
       "  <tbody>\n",
       "    <tr>\n",
       "      <th>0</th>\n",
       "      <td>2022</td>\n",
       "      <td>09</td>\n",
       "      <td>Ciudad de México</td>\n",
       "      <td>09002</td>\n",
       "      <td>Azcapotzalco</td>\n",
       "      <td>02-009</td>\n",
       "      <td>Coltongo</td>\n",
       "      <td>MEX</td>\n",
       "      <td>colonia</td>\n",
       "      <td>POLYGON ((-99.15595 19.48651, -99.15294 19.485...</td>\n",
       "    </tr>\n",
       "    <tr>\n",
       "      <th>1</th>\n",
       "      <td>2022</td>\n",
       "      <td>09</td>\n",
       "      <td>Ciudad de México</td>\n",
       "      <td>09003</td>\n",
       "      <td>Coyoacán</td>\n",
       "      <td>03-006</td>\n",
       "      <td>Ampliacion Candelaria</td>\n",
       "      <td>MEX</td>\n",
       "      <td>colonia</td>\n",
       "      <td>POLYGON ((-99.15265 19.32581, -99.15336 19.326...</td>\n",
       "    </tr>\n",
       "    <tr>\n",
       "      <th>2</th>\n",
       "      <td>2022</td>\n",
       "      <td>09</td>\n",
       "      <td>Ciudad de México</td>\n",
       "      <td>09003</td>\n",
       "      <td>Coyoacán</td>\n",
       "      <td>03-026</td>\n",
       "      <td>Croc Culhuacan Secc 6 (U Hab)</td>\n",
       "      <td>MEX</td>\n",
       "      <td>colonia</td>\n",
       "      <td>POLYGON ((-99.12251 19.32904, -99.12198 19.329...</td>\n",
       "    </tr>\n",
       "    <tr>\n",
       "      <th>3</th>\n",
       "      <td>2022</td>\n",
       "      <td>09</td>\n",
       "      <td>Ciudad de México</td>\n",
       "      <td>09003</td>\n",
       "      <td>Coyoacán</td>\n",
       "      <td>03-072</td>\n",
       "      <td>Los Cipreses</td>\n",
       "      <td>MEX</td>\n",
       "      <td>colonia</td>\n",
       "      <td>POLYGON ((-99.12466 19.31520, -99.12491 19.315...</td>\n",
       "    </tr>\n",
       "    <tr>\n",
       "      <th>4</th>\n",
       "      <td>2022</td>\n",
       "      <td>09</td>\n",
       "      <td>Ciudad de México</td>\n",
       "      <td>09004</td>\n",
       "      <td>Cuajimalpa de Morelos</td>\n",
       "      <td>04-033</td>\n",
       "      <td>Lomas Del Chamizal</td>\n",
       "      <td>MEX</td>\n",
       "      <td>colonia</td>\n",
       "      <td>POLYGON ((-99.26654 19.38314, -99.26658 19.383...</td>\n",
       "    </tr>\n",
       "  </tbody>\n",
       "</table>\n",
       "</div>"
      ],
      "text/plain": [
       "   year sta_code          sta_name mun_code               mun_name col_code   \n",
       "0  2022       09  Ciudad de México    09002           Azcapotzalco   02-009  \\\n",
       "1  2022       09  Ciudad de México    09003               Coyoacán   03-006   \n",
       "2  2022       09  Ciudad de México    09003               Coyoacán   03-026   \n",
       "3  2022       09  Ciudad de México    09003               Coyoacán   03-072   \n",
       "4  2022       09  Ciudad de México    09004  Cuajimalpa de Morelos   04-033   \n",
       "\n",
       "                        col_name col_area_co col_type   \n",
       "0                       Coltongo         MEX  colonia  \\\n",
       "1          Ampliacion Candelaria         MEX  colonia   \n",
       "2  Croc Culhuacan Secc 6 (U Hab)         MEX  colonia   \n",
       "3                   Los Cipreses         MEX  colonia   \n",
       "4             Lomas Del Chamizal         MEX  colonia   \n",
       "\n",
       "                                            geometry  \n",
       "0  POLYGON ((-99.15595 19.48651, -99.15294 19.485...  \n",
       "1  POLYGON ((-99.15265 19.32581, -99.15336 19.326...  \n",
       "2  POLYGON ((-99.12251 19.32904, -99.12198 19.329...  \n",
       "3  POLYGON ((-99.12466 19.31520, -99.12491 19.315...  \n",
       "4  POLYGON ((-99.26654 19.38314, -99.26658 19.383...  "
      ]
     },
     "execution_count": 14,
     "metadata": {},
     "output_type": "execute_result"
    }
   ],
   "source": [
    "geo.head()"
   ]
  },
  {
   "cell_type": "code",
   "execution_count": 10,
   "metadata": {},
   "outputs": [],
   "source": [
    "geo['col_name'] = geo['col_name'].str.replace(r\"[\\[\\]']\", '', regex=True)\n",
    "geo['sta_code'] = geo['sta_code'].str.replace(r\"[\\[\\]']\", '', regex=True)\n",
    "geo['sta_namee'] = geo['sta_name'].str.replace(r\"[\\[\\]']\", '', regex=True)"
   ]
  },
  {
   "cell_type": "code",
   "execution_count": 13,
   "metadata": {},
   "outputs": [],
   "source": [
    "geo = geo.apply(lambda x: x.str.replace(r\"[\\[\\]']\", '', regex=True) if x.dtype == 'object' else x)"
   ]
  },
  {
   "cell_type": "code",
   "execution_count": 16,
   "metadata": {},
   "outputs": [
    {
     "name": "stderr",
     "output_type": "stream",
     "text": [
      "C:\\Users\\anton\\AppData\\Local\\Temp\\ipykernel_11828\\3943655620.py:1: UserWarning: Column names longer than 10 characters will be truncated when saved to ESRI Shapefile.\n",
      "  geo.to_file('../FINAL/modified_geo.shp')\n"
     ]
    }
   ],
   "source": [
    "geo.to_file('../FINAL/modified_geo.shp')"
   ]
  }
 ],
 "metadata": {
  "kernelspec": {
   "display_name": "Python 3",
   "language": "python",
   "name": "python3"
  },
  "language_info": {
   "codemirror_mode": {
    "name": "ipython",
    "version": 3
   },
   "file_extension": ".py",
   "mimetype": "text/x-python",
   "name": "python",
   "nbconvert_exporter": "python",
   "pygments_lexer": "ipython3",
   "version": "3.11.2"
  },
  "orig_nbformat": 4
 },
 "nbformat": 4,
 "nbformat_minor": 2
}
