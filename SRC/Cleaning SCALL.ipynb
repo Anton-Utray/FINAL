{
 "cells": [
  {
   "attachments": {},
   "cell_type": "markdown",
   "metadata": {},
   "source": [
    "# Cleaning data sets proyectos captura de agua\n",
    "\n",
    "Estos archivos vienen separados por años desde 2019 a 2022. Primero agregaremos una columna de año para cada uno y luego los concatenamos para limpiarlos a la par. \n",
    "\n",
    "Hay muchos nulos en las columnas de colonia y de alcaldía que tenemos que homogenizar para poder tener la info para las 2 escalas"
   ]
  },
  {
   "attachments": {},
   "cell_type": "markdown",
   "metadata": {},
   "source": [
    "### Configuración espacio de trabajo"
   ]
  },
  {
   "cell_type": "code",
   "execution_count": 1,
   "metadata": {},
   "outputs": [],
   "source": [
    "import numpy as np\n",
    "import pandas as pd\n",
    "import re\n",
    "import warnings\n",
    "warnings.filterwarnings('ignore')\n",
    "pd.set_option('display.max_columns', None)\n",
    "pd.set_option('display.max_rows', None)\n",
    "from copy_repo_funciones import *\n",
    "import geopandas as gpd"
   ]
  },
  {
   "attachments": {},
   "cell_type": "markdown",
   "metadata": {},
   "source": [
    "### Empezando\n",
    "\n"
   ]
  },
  {
   "cell_type": "code",
   "execution_count": 2,
   "metadata": {},
   "outputs": [],
   "source": [
    "geo=pd.read_csv('../FINAL/RAW/GEOREF/georef-mexico-colonia.csv', sep=';') #Este archivo contiene el listado de colonias por alcaldia\n",
    "geopandas=gpd.read_file('../FINAL/RAW/GEOREF/georef-mexico-colonia/georef-mexico-colonia-millesime.shp', encoding='utf-8')"
   ]
  },
  {
   "cell_type": "code",
   "execution_count": 3,
   "metadata": {},
   "outputs": [
    {
     "data": {
      "text/html": [
       "<div>\n",
       "<style scoped>\n",
       "    .dataframe tbody tr th:only-of-type {\n",
       "        vertical-align: middle;\n",
       "    }\n",
       "\n",
       "    .dataframe tbody tr th {\n",
       "        vertical-align: top;\n",
       "    }\n",
       "\n",
       "    .dataframe thead th {\n",
       "        text-align: right;\n",
       "    }\n",
       "</style>\n",
       "<table border=\"1\" class=\"dataframe\">\n",
       "  <thead>\n",
       "    <tr style=\"text-align: right;\">\n",
       "      <th></th>\n",
       "      <th>year</th>\n",
       "      <th>sta_code</th>\n",
       "      <th>sta_name</th>\n",
       "      <th>mun_code</th>\n",
       "      <th>mun_name</th>\n",
       "      <th>col_code</th>\n",
       "      <th>col_name</th>\n",
       "      <th>col_area_co</th>\n",
       "      <th>col_type</th>\n",
       "      <th>geometry</th>\n",
       "    </tr>\n",
       "  </thead>\n",
       "  <tbody>\n",
       "    <tr>\n",
       "      <th>0</th>\n",
       "      <td>2022</td>\n",
       "      <td>['09']</td>\n",
       "      <td>['Ciudad de México']</td>\n",
       "      <td>['09002']</td>\n",
       "      <td>['Azcapotzalco']</td>\n",
       "      <td>['02-009']</td>\n",
       "      <td>['Coltongo']</td>\n",
       "      <td>MEX</td>\n",
       "      <td>colonia</td>\n",
       "      <td>POLYGON ((-99.15595 19.48651, -99.15294 19.485...</td>\n",
       "    </tr>\n",
       "    <tr>\n",
       "      <th>1</th>\n",
       "      <td>2022</td>\n",
       "      <td>['09']</td>\n",
       "      <td>['Ciudad de México']</td>\n",
       "      <td>['09003']</td>\n",
       "      <td>['Coyoacán']</td>\n",
       "      <td>['03-006']</td>\n",
       "      <td>['Ampliacion Candelaria']</td>\n",
       "      <td>MEX</td>\n",
       "      <td>colonia</td>\n",
       "      <td>POLYGON ((-99.15265 19.32581, -99.15336 19.326...</td>\n",
       "    </tr>\n",
       "    <tr>\n",
       "      <th>2</th>\n",
       "      <td>2022</td>\n",
       "      <td>['09']</td>\n",
       "      <td>['Ciudad de México']</td>\n",
       "      <td>['09003']</td>\n",
       "      <td>['Coyoacán']</td>\n",
       "      <td>['03-026']</td>\n",
       "      <td>['Croc Culhuacan Secc 6 (U Hab)']</td>\n",
       "      <td>MEX</td>\n",
       "      <td>colonia</td>\n",
       "      <td>POLYGON ((-99.12251 19.32904, -99.12198 19.329...</td>\n",
       "    </tr>\n",
       "    <tr>\n",
       "      <th>3</th>\n",
       "      <td>2022</td>\n",
       "      <td>['09']</td>\n",
       "      <td>['Ciudad de México']</td>\n",
       "      <td>['09003']</td>\n",
       "      <td>['Coyoacán']</td>\n",
       "      <td>['03-072']</td>\n",
       "      <td>['Los Cipreses']</td>\n",
       "      <td>MEX</td>\n",
       "      <td>colonia</td>\n",
       "      <td>POLYGON ((-99.12466 19.31520, -99.12491 19.315...</td>\n",
       "    </tr>\n",
       "    <tr>\n",
       "      <th>4</th>\n",
       "      <td>2022</td>\n",
       "      <td>['09']</td>\n",
       "      <td>['Ciudad de México']</td>\n",
       "      <td>['09004']</td>\n",
       "      <td>['Cuajimalpa de Morelos']</td>\n",
       "      <td>['04-033']</td>\n",
       "      <td>['Lomas Del Chamizal']</td>\n",
       "      <td>MEX</td>\n",
       "      <td>colonia</td>\n",
       "      <td>POLYGON ((-99.26654 19.38314, -99.26658 19.383...</td>\n",
       "    </tr>\n",
       "  </tbody>\n",
       "</table>\n",
       "</div>"
      ],
      "text/plain": [
       "   year sta_code              sta_name   mun_code                   mun_name   \n",
       "0  2022   ['09']  ['Ciudad de México']  ['09002']           ['Azcapotzalco']  \\\n",
       "1  2022   ['09']  ['Ciudad de México']  ['09003']               ['Coyoacán']   \n",
       "2  2022   ['09']  ['Ciudad de México']  ['09003']               ['Coyoacán']   \n",
       "3  2022   ['09']  ['Ciudad de México']  ['09003']               ['Coyoacán']   \n",
       "4  2022   ['09']  ['Ciudad de México']  ['09004']  ['Cuajimalpa de Morelos']   \n",
       "\n",
       "     col_code                           col_name col_area_co col_type   \n",
       "0  ['02-009']                       ['Coltongo']         MEX  colonia  \\\n",
       "1  ['03-006']          ['Ampliacion Candelaria']         MEX  colonia   \n",
       "2  ['03-026']  ['Croc Culhuacan Secc 6 (U Hab)']         MEX  colonia   \n",
       "3  ['03-072']                   ['Los Cipreses']         MEX  colonia   \n",
       "4  ['04-033']             ['Lomas Del Chamizal']         MEX  colonia   \n",
       "\n",
       "                                            geometry  \n",
       "0  POLYGON ((-99.15595 19.48651, -99.15294 19.485...  \n",
       "1  POLYGON ((-99.15265 19.32581, -99.15336 19.326...  \n",
       "2  POLYGON ((-99.12251 19.32904, -99.12198 19.329...  \n",
       "3  POLYGON ((-99.12466 19.31520, -99.12491 19.315...  \n",
       "4  POLYGON ((-99.26654 19.38314, -99.26658 19.383...  "
      ]
     },
     "execution_count": 3,
     "metadata": {},
     "output_type": "execute_result"
    }
   ],
   "source": [
    "geopandas.head()"
   ]
  },
  {
   "cell_type": "code",
   "execution_count": 94,
   "metadata": {},
   "outputs": [],
   "source": [
    "capt_19=pd.read_csv('../FINAL/RAW/SCALL/scall_2019_col.csv')\n",
    "capt_20=pd.read_csv('../FINAL/RAW/SCALL/scall_2020_col.csv')\n",
    "capt_21=pd.read_csv('../FINAL/RAW/SCALL/scall_2021_col.csv')\n",
    "capt_22=pd.read_csv('../FINAL/RAW/SCALL/scall_2022_col.csv') #Este archivo se hizo un cruce con shapely para sacar de las coordenadas para sacar colonia. More on that later "
   ]
  },
  {
   "cell_type": "code",
   "execution_count": 95,
   "metadata": {},
   "outputs": [],
   "source": [
    "capt_22['año']=2022"
   ]
  },
  {
   "attachments": {},
   "cell_type": "markdown",
   "metadata": {},
   "source": [
    "### Shapely para sacar las colonias\n",
    "\n",
    "A la hora de ingresar las colonias hay un gran numero de inconsistencias que va a tardar mucho corregir a mano, por lo tanto vamos a usar Shapely para leer las coordenadas y cruzarlo con los limites de cada colonia para poder asignar el nombre correcto y homogeneo. \n",
    "\n",
    "Esto ya fue ejecutado en un notebook de prueba para 2022 y vamos a hacerlo para los demas aquí. "
   ]
  },
  {
   "cell_type": "code",
   "execution_count": 7,
   "metadata": {},
   "outputs": [],
   "source": [
    "# from shapely.geometry import Point, Polygon\n",
    "\n",
    "\n",
    "# for index, row in capt_19.iterrows():\n",
    "#      lat = row['lat']\n",
    "#      lon = row['long']\n",
    "    \n",
    "\n",
    "#      point = Point(lon, lat)\n",
    "    \n",
    "\n",
    "#      colonia_name = None\n",
    "    \n",
    " \n",
    "#      for _, polygon in geopandas.iterrows():\n",
    "\n",
    "#          if polygon['geometry'].contains(point):\n",
    "\n",
    "#              colonia_name = polygon['col_name']\n",
    "#              break \n",
    "    \n",
    "   \n",
    "#      capt_19.at[index, 'Colonia name'] = colonia_name"
   ]
  },
  {
   "cell_type": "code",
   "execution_count": 76,
   "metadata": {},
   "outputs": [],
   "source": [
    "# capt_19.to_csv('../FINAL/RAW/SCALL/scall_2019_col.csv', index=False)"
   ]
  },
  {
   "cell_type": "code",
   "execution_count": 10,
   "metadata": {},
   "outputs": [],
   "source": [
    "# for index, row in capt_20.iterrows():\n",
    "#      lat = row['lat']\n",
    "#      lon = row['long']\n",
    "    \n",
    "\n",
    "#      point = Point(lon, lat)\n",
    "    \n",
    "\n",
    "#      colonia_name = None\n",
    "    \n",
    " \n",
    "#      for _, polygon in geopandas.iterrows():\n",
    "\n",
    "#          if polygon['geometry'].contains(point):\n",
    "\n",
    "#              colonia_name = polygon['col_name']\n",
    "#              break \n",
    "    \n",
    "   \n",
    "#      capt_20.at[index, 'Colonia name'] = colonia_name"
   ]
  },
  {
   "cell_type": "code",
   "execution_count": 75,
   "metadata": {},
   "outputs": [],
   "source": [
    "# capt_20.to_csv('../FINAL/RAW/SCALL/scall_2020_col.csv', index=False)"
   ]
  },
  {
   "cell_type": "code",
   "execution_count": 13,
   "metadata": {},
   "outputs": [],
   "source": [
    "# for index, row in capt_21.iterrows():\n",
    "#      lat = row['lat']\n",
    "#      lon = row['long']\n",
    "    \n",
    "\n",
    "#      point = Point(lon, lat)\n",
    "    \n",
    "\n",
    "#      colonia_name = None\n",
    "    \n",
    " \n",
    "#      for _, polygon in geopandas.iterrows():\n",
    "\n",
    "#          if polygon['geometry'].contains(point):\n",
    "\n",
    "#              colonia_name = polygon['col_name']\n",
    "#              break \n",
    "    \n",
    "   \n",
    "#      capt_21.at[index, 'Colonia name'] = colonia_name"
   ]
  },
  {
   "cell_type": "code",
   "execution_count": 74,
   "metadata": {},
   "outputs": [],
   "source": [
    "# capt_21.to_csv('../FINAL/RAW/SCALL/scall_2021_col.csv', index=False)"
   ]
  },
  {
   "attachments": {},
   "cell_type": "markdown",
   "metadata": {},
   "source": [
    "## Adecuamos estructura de 22 a 19,20,21 que la comparten para poder concatenar y limpiar a la vez"
   ]
  },
  {
   "cell_type": "code",
   "execution_count": 96,
   "metadata": {},
   "outputs": [
    {
     "name": "stdout",
     "output_type": "stream",
     "text": [
      "<class 'pandas.core.frame.DataFrame'>\n",
      "RangeIndex: 16971 entries, 0 to 16970\n",
      "Data columns (total 15 columns):\n",
      " #   Column             Non-Null Count  Dtype  \n",
      "---  ------             --------------  -----  \n",
      " 0   Unnamed: 0         16971 non-null  int64  \n",
      " 1   _id                16971 non-null  int64  \n",
      " 2   expediente         16971 non-null  object \n",
      " 3   pueblo             16971 non-null  object \n",
      " 4   scall_col          16971 non-null  object \n",
      " 5   territorial        16971 non-null  object \n",
      " 6   fecha_instalacion  16971 non-null  object \n",
      " 7   capacidad          16971 non-null  int64  \n",
      " 8   alcaldia           15943 non-null  object \n",
      " 9   colonia_datos      15943 non-null  object \n",
      " 10  latitud            16971 non-null  float64\n",
      " 11  longitud           16971 non-null  float64\n",
      " 12  geometry           16971 non-null  object \n",
      " 13  Colonia name       16852 non-null  object \n",
      " 14  año                16971 non-null  int64  \n",
      "dtypes: float64(2), int64(4), object(9)\n",
      "memory usage: 1.9+ MB\n"
     ]
    }
   ],
   "source": [
    "capt_22.info()"
   ]
  },
  {
   "cell_type": "code",
   "execution_count": 97,
   "metadata": {},
   "outputs": [],
   "source": [
    "capt_22.drop(columns=['Unnamed: 0','geometry', 'capacidad', '_id', 'scall_col'], axis=1, inplace=True) "
   ]
  },
  {
   "cell_type": "code",
   "execution_count": 98,
   "metadata": {},
   "outputs": [],
   "source": [
    "capt_total=pd.concat([capt_19,capt_20, capt_21],axis=0)"
   ]
  },
  {
   "cell_type": "code",
   "execution_count": 99,
   "metadata": {},
   "outputs": [
    {
     "data": {
      "text/html": [
       "<div>\n",
       "<style scoped>\n",
       "    .dataframe tbody tr th:only-of-type {\n",
       "        vertical-align: middle;\n",
       "    }\n",
       "\n",
       "    .dataframe tbody tr th {\n",
       "        vertical-align: top;\n",
       "    }\n",
       "\n",
       "    .dataframe thead th {\n",
       "        text-align: right;\n",
       "    }\n",
       "</style>\n",
       "<table border=\"1\" class=\"dataframe\">\n",
       "  <thead>\n",
       "    <tr style=\"text-align: right;\">\n",
       "      <th></th>\n",
       "      <th>long</th>\n",
       "      <th>lat</th>\n",
       "      <th>Expediente</th>\n",
       "      <th>Pueblo</th>\n",
       "      <th>Colonia_Ba</th>\n",
       "      <th>Territoria</th>\n",
       "      <th>Alcaldia</th>\n",
       "      <th>Fecha_de_I</th>\n",
       "      <th>Instalado</th>\n",
       "      <th>año</th>\n",
       "      <th>Colonia name</th>\n",
       "    </tr>\n",
       "  </thead>\n",
       "  <tbody>\n",
       "    <tr>\n",
       "      <th>0</th>\n",
       "      <td>-98.975686</td>\n",
       "      <td>19.328924</td>\n",
       "      <td>J16NRB</td>\n",
       "      <td>TEOTONGO ACAHUALTEPEC</td>\n",
       "      <td>CAMPESTRE POTRERO</td>\n",
       "      <td>TEOTONGO ACAHUALTEPEC</td>\n",
       "      <td>IZTAPALAPA</td>\n",
       "      <td>2019-07-24</td>\n",
       "      <td>Programa SCALL</td>\n",
       "      <td>2019</td>\n",
       "      <td>['Campestre Potrero']</td>\n",
       "    </tr>\n",
       "    <tr>\n",
       "      <th>1</th>\n",
       "      <td>-98.970402</td>\n",
       "      <td>19.327016</td>\n",
       "      <td>J5WU9F</td>\n",
       "      <td>TEOTONGO ACAHUALTEPEC</td>\n",
       "      <td>CAMPESTRE POTRERO</td>\n",
       "      <td>TEOTONGO ACAHUALTEPEC</td>\n",
       "      <td>IZTAPALAPA</td>\n",
       "      <td>2019-07-24</td>\n",
       "      <td>Programa SCALL</td>\n",
       "      <td>2019</td>\n",
       "      <td>['Campestre Potrero']</td>\n",
       "    </tr>\n",
       "    <tr>\n",
       "      <th>2</th>\n",
       "      <td>-98.969184</td>\n",
       "      <td>19.326854</td>\n",
       "      <td>X4S7RV</td>\n",
       "      <td>TEOTONGO ACAHUALTEPEC</td>\n",
       "      <td>SAN FRANCISCO APOLOCALCO</td>\n",
       "      <td>TEOTONGO ACAHUALTEPEC</td>\n",
       "      <td>IZTAPALAPA</td>\n",
       "      <td>2019-07-23</td>\n",
       "      <td>Programa SCALL</td>\n",
       "      <td>2019</td>\n",
       "      <td>['San Francisco Apolocalco']</td>\n",
       "    </tr>\n",
       "    <tr>\n",
       "      <th>3</th>\n",
       "      <td>-98.995963</td>\n",
       "      <td>19.334764</td>\n",
       "      <td>F5AXVR</td>\n",
       "      <td>TEOTONGO ACAHUALTEPEC</td>\n",
       "      <td>MIRAVALLES</td>\n",
       "      <td>TEOTONGO ACAHUALTEPEC</td>\n",
       "      <td>IZTAPALAPA</td>\n",
       "      <td>2019-07-25</td>\n",
       "      <td>Programa SCALL</td>\n",
       "      <td>2019</td>\n",
       "      <td>['Miravalle']</td>\n",
       "    </tr>\n",
       "    <tr>\n",
       "      <th>4</th>\n",
       "      <td>-99.006770</td>\n",
       "      <td>19.353941</td>\n",
       "      <td>M8IJD1</td>\n",
       "      <td>TEOTONGO ACAHUALTEPEC</td>\n",
       "      <td>SANTIAGO ACAHUALTEPEC 1a amp</td>\n",
       "      <td>TEOTONGO ACAHUALTEPEC</td>\n",
       "      <td>IZTAPALAPA</td>\n",
       "      <td>2019-06-06</td>\n",
       "      <td>Programa SCALL</td>\n",
       "      <td>2019</td>\n",
       "      <td>['1a Ampliacion Santiago Acahualtepec']</td>\n",
       "    </tr>\n",
       "  </tbody>\n",
       "</table>\n",
       "</div>"
      ],
      "text/plain": [
       "        long        lat Expediente                 Pueblo   \n",
       "0 -98.975686  19.328924     J16NRB  TEOTONGO ACAHUALTEPEC  \\\n",
       "1 -98.970402  19.327016     J5WU9F  TEOTONGO ACAHUALTEPEC   \n",
       "2 -98.969184  19.326854     X4S7RV  TEOTONGO ACAHUALTEPEC   \n",
       "3 -98.995963  19.334764     F5AXVR  TEOTONGO ACAHUALTEPEC   \n",
       "4 -99.006770  19.353941     M8IJD1  TEOTONGO ACAHUALTEPEC   \n",
       "\n",
       "                     Colonia_Ba             Territoria    Alcaldia   \n",
       "0             CAMPESTRE POTRERO  TEOTONGO ACAHUALTEPEC  IZTAPALAPA  \\\n",
       "1             CAMPESTRE POTRERO  TEOTONGO ACAHUALTEPEC  IZTAPALAPA   \n",
       "2      SAN FRANCISCO APOLOCALCO  TEOTONGO ACAHUALTEPEC  IZTAPALAPA   \n",
       "3                    MIRAVALLES  TEOTONGO ACAHUALTEPEC  IZTAPALAPA   \n",
       "4  SANTIAGO ACAHUALTEPEC 1a amp  TEOTONGO ACAHUALTEPEC  IZTAPALAPA   \n",
       "\n",
       "   Fecha_de_I       Instalado   año                             Colonia name  \n",
       "0  2019-07-24  Programa SCALL  2019                    ['Campestre Potrero']  \n",
       "1  2019-07-24  Programa SCALL  2019                    ['Campestre Potrero']  \n",
       "2  2019-07-23  Programa SCALL  2019             ['San Francisco Apolocalco']  \n",
       "3  2019-07-25  Programa SCALL  2019                            ['Miravalle']  \n",
       "4  2019-06-06  Programa SCALL  2019  ['1a Ampliacion Santiago Acahualtepec']  "
      ]
     },
     "execution_count": 99,
     "metadata": {},
     "output_type": "execute_result"
    }
   ],
   "source": [
    "capt_total.head()"
   ]
  },
  {
   "cell_type": "code",
   "execution_count": 100,
   "metadata": {},
   "outputs": [],
   "source": [
    "capt_total.drop('Instalado', axis=1, inplace=True)"
   ]
  },
  {
   "cell_type": "code",
   "execution_count": 101,
   "metadata": {},
   "outputs": [],
   "source": [
    "capt_22=capt_22.reindex(columns=['longitud', 'latitud', 'expediente', 'pueblo', 'colonia_datos', 'territorial', 'alcaldia', 'fecha_instalacion', 'año', 'Colonia name'])"
   ]
  },
  {
   "cell_type": "code",
   "execution_count": 102,
   "metadata": {},
   "outputs": [],
   "source": [
    "capt_22.columns= capt_total.columns"
   ]
  },
  {
   "cell_type": "code",
   "execution_count": 103,
   "metadata": {},
   "outputs": [],
   "source": [
    "capt_total=pd.concat([capt_total, capt_22])"
   ]
  },
  {
   "cell_type": "code",
   "execution_count": 104,
   "metadata": {},
   "outputs": [
    {
     "data": {
      "text/plain": [
       "(46996, 10)"
      ]
     },
     "execution_count": 104,
     "metadata": {},
     "output_type": "execute_result"
    }
   ],
   "source": [
    "capt_total.shape"
   ]
  },
  {
   "cell_type": "code",
   "execution_count": 106,
   "metadata": {},
   "outputs": [],
   "source": [
    "capt_total.drop('Territoria', axis=1, inplace=True)"
   ]
  },
  {
   "cell_type": "code",
   "execution_count": 107,
   "metadata": {},
   "outputs": [],
   "source": [
    "capt_total['Colonia name'] = capt_total['Colonia name'].str.replace(r\"[\\[\\]']\", '', regex=True) #aqui usamos regex para quitar los brackets y comillas que se añadieron con shapely"
   ]
  },
  {
   "cell_type": "code",
   "execution_count": 105,
   "metadata": {},
   "outputs": [
    {
     "name": "stdout",
     "output_type": "stream",
     "text": [
      "<class 'pandas.core.frame.DataFrame'>\n",
      "Index: 46996 entries, 0 to 16970\n",
      "Data columns (total 10 columns):\n",
      " #   Column        Non-Null Count  Dtype  \n",
      "---  ------        --------------  -----  \n",
      " 0   long          46996 non-null  float64\n",
      " 1   lat           46996 non-null  float64\n",
      " 2   Expediente    46996 non-null  object \n",
      " 3   Pueblo        46996 non-null  object \n",
      " 4   Colonia_Ba    45968 non-null  object \n",
      " 5   Territoria    46996 non-null  object \n",
      " 6   Alcaldia      45968 non-null  object \n",
      " 7   Fecha_de_I    46993 non-null  object \n",
      " 8   año           46996 non-null  int64  \n",
      " 9   Colonia name  46852 non-null  object \n",
      "dtypes: float64(2), int64(1), object(7)\n",
      "memory usage: 3.9+ MB\n"
     ]
    }
   ],
   "source": [
    "capt_total.info()"
   ]
  },
  {
   "cell_type": "code",
   "execution_count": 110,
   "metadata": {},
   "outputs": [],
   "source": [
    "capt_total.loc[capt_total['Colonia name'] == \"PeÃ±a Alta\", 'Colonia name'] = \"Peña Alta\"\n",
    "capt_total.loc[capt_total['Colonia name'] == \"San Juan 2a AmpliaciÃ³n (Pje)\", 'Colonia name'] = \"San Juan 2a Ampliación (Pje)\"\n",
    "capt_total.loc[capt_total['Colonia name'] == \"Ayocatitla, AsunciÃ³n\", 'Colonia name'] = \"Ayocatitla, Asunción\""
   ]
  },
  {
   "cell_type": "code",
   "execution_count": 114,
   "metadata": {},
   "outputs": [],
   "source": [
    "capt_total.loc[capt_total['Pueblo'] == 'PBO. SANTIAGO TUYLYEHUALCO', 'Alcaldia'] = 'Xochimilco'\n",
    "capt_total.loc[capt_total['Pueblo'] == 'PUEBLO SAN LORENZO TLACOYUCAN', 'Alcaldia'] = 'Milpa Alta'\n",
    "capt_total.loc[capt_total['Pueblo'] == 'SAN PABLO OZTOTEPEC', 'Alcaldia'] = 'Milpa Alta'\n",
    "capt_total.loc[capt_total['Pueblo'] == 'VILLA MILPA ALTA', 'Alcaldia'] = 'Milpa Alta'\n",
    "capt_total.loc[capt_total['Pueblo'] == 'SAN PEDRO ATOCPAN', 'Alcaldia'] = 'Milpa Alta'\n",
    "capt_total.loc[capt_total['Pueblo'] == 'PUEBLO SAN FRANCISCO TECOXPA', 'Alcaldia'] = 'Milpa Alta'\n",
    "capt_total.loc[capt_total['Pueblo'] == 'PUEBLO SAN LORENZO TLACOYUCAN', 'Alcaldia'] = 'Milpa Alta'\n",
    "capt_total.loc[capt_total['Pueblo'] == 'SANTA ANA TLACOTENCO', 'Alcaldia'] = 'Milpa Alta'\n",
    "capt_total.loc[capt_total['Pueblo'] == 'PUEBLO SAN BARTOLOME XICOMULCO', 'Alcaldia'] = 'Milpa Alta'\n",
    "capt_total.loc[capt_total['Pueblo'] == 'PUEBLO SAN SALVADOR CUAUHTENCO', 'Alcaldia'] = 'Milpa Alta'\n",
    "capt_total.loc[capt_total['Pueblo'] == 'SAN JUAN IXTAYOPAN', 'Alcaldia'] = 'Tláhuac'\n",
    "capt_total.loc[capt_total['Pueblo'] == 'PUEBLO SANTO TOMAS AJUSCO', 'Alcaldia'] = 'Tlalpan'\n",
    "capt_total.loc[capt_total['Pueblo'] == 'PUEBLO PARRES EL GUARDA', 'Alcaldia'] = 'Tlalpan'\n",
    "capt_total.loc[capt_total['Pueblo'] == 'SAN ANTONIO TECOMITL', 'Alcaldia'] = 'Milpa Alta'"
   ]
  },
  {
   "cell_type": "code",
   "execution_count": 123,
   "metadata": {},
   "outputs": [],
   "source": [
    "capt_total.loc[capt_total['Pueblo']=='SAN PEDRO ATOCPAN', 'Colonia name']='San Pedro Atocpan (Pblo)'\n",
    "capt_total.loc[capt_total['Pueblo']=='SAN ANTONIO TECOMITL', 'Colonia name']='San Antonio Tecomitl (Pblo)'\n",
    "capt_total.loc[capt_total['Pueblo']=='PUEBLO SAN BARTOLOME XICOMULCO', 'Colonia name']='San Bartolome Xicomulco (Pblo)'\n",
    "capt_total.loc[capt_total['Pueblo']=='PUEBLO SAN FRANCISCO TECOXPA', 'Colonia name']='San Francisco Tecoxpa (Pblo)'\n",
    "capt_total.loc[capt_total['Pueblo']=='PUEBLO SAN LORENZO TLACOYUCAN', 'Colonia name']='San Lorenzo Tlacoyucan (Pblo)'\n",
    "capt_total.loc[capt_total['Pueblo']=='SAN PABLO OZTOTEPEC', 'Colonia name']='San Pablo Oztotepec (Pblo)'\n",
    "capt_total.loc[capt_total['Pueblo']=='VILLA MILPA ALTA', 'Colonia name']='Villa Milpa Alta (Pblo)'\n",
    "capt_total.loc[capt_total['Pueblo']=='SANTA ANA TLACOTENCO', 'Colonia name']='Santa Ana Tlacotenco (Pblo)'\n",
    "capt_total.loc[capt_total['Pueblo']=='PUEBLO SAN SALVADOR CUAUHTENCO', 'Colonia name']='San Salvador Cuauhtenco (Pblo)'\n",
    "capt_total.loc[capt_total['Pueblo']=='PUEBLO SANTO TOMAS AJUSCO', 'Colonia name']='Santo Tomas Ajusco (Pblo)'\n",
    "capt_total.loc[capt_total['Pueblo']=='SAN ANDRES MIXQUIC', 'Colonia name']='San Andres Mixquic (Pblo)'\n",
    "capt_total.loc[capt_total['Pueblo']=='PUEBLO SAN FRANCISCO TLALTENCO', 'Colonia name']='San Francisco Tlaltenco (Pblo)'\n",
    "capt_total.loc[capt_total['Pueblo']=='SANTA CATARINA YECAHUIZOTL', 'Colonia name']='Santa Catarina Yecahuizotl (Pblo)'\n",
    "capt_total.loc[capt_total['Pueblo']=='TEOTONGO ACAHUALTEPEC', 'Colonia name']='Santiago Acahualtepec (Pblo)'"
   ]
  },
  {
   "cell_type": "code",
   "execution_count": 126,
   "metadata": {},
   "outputs": [],
   "source": [
    "capt_total.drop('Colonia_Ba', axis=1, inplace=True)"
   ]
  },
  {
   "cell_type": "code",
   "execution_count": 131,
   "metadata": {},
   "outputs": [],
   "source": [
    "capt_total.drop('Pueblo', axis=1, inplace=True)"
   ]
  },
  {
   "cell_type": "code",
   "execution_count": 128,
   "metadata": {},
   "outputs": [],
   "source": [
    "capt_total = capt_total.dropna(subset=['Colonia name'])\n",
    "capt_total = capt_total.dropna(subset=['Fecha_de_I'])\n",
    "capt_total = capt_total.dropna(subset=['Alcaldia'])"
   ]
  },
  {
   "cell_type": "code",
   "execution_count": 147,
   "metadata": {},
   "outputs": [],
   "source": [
    "capt_total['Fecha_de_I'] = capt_total['Fecha_de_I'].str.split('T').str[0]\n",
    "capt_total['Fecha_de_I'] = pd.to_datetime(capt_total['Fecha_de_I'])\n"
   ]
  },
  {
   "cell_type": "code",
   "execution_count": 148,
   "metadata": {},
   "outputs": [
    {
     "name": "stdout",
     "output_type": "stream",
     "text": [
      "<class 'pandas.core.frame.DataFrame'>\n",
      "Index: 46964 entries, 0 to 16970\n",
      "Data columns (total 7 columns):\n",
      " #   Column        Non-Null Count  Dtype         \n",
      "---  ------        --------------  -----         \n",
      " 0   long          46964 non-null  float64       \n",
      " 1   lat           46964 non-null  float64       \n",
      " 2   Expediente    46964 non-null  object        \n",
      " 3   Alcaldia      46964 non-null  object        \n",
      " 4   Fecha_de_I    46964 non-null  datetime64[ns]\n",
      " 5   año           46964 non-null  int64         \n",
      " 6   Colonia name  46964 non-null  object        \n",
      "dtypes: datetime64[ns](1), float64(2), int64(1), object(3)\n",
      "memory usage: 2.9+ MB\n"
     ]
    }
   ],
   "source": [
    "capt_total.info()"
   ]
  },
  {
   "cell_type": "code",
   "execution_count": 154,
   "metadata": {},
   "outputs": [
    {
     "data": {
      "text/plain": [
       "Alcaldia\n",
       "Milpa Alta             12005\n",
       "Iztapalapa              9481\n",
       "Tlahuac                 7343\n",
       "Tlalpan                 6746\n",
       "Xochimilco              6319\n",
       "Gustavo A. Madero       1966\n",
       "Magdalena Contreras     1099\n",
       "Tláhuac                 1052\n",
       "Azcapotzalco             503\n",
       "Coyoacan                 450\n",
       "Name: count, dtype: int64"
      ]
     },
     "execution_count": 154,
     "metadata": {},
     "output_type": "execute_result"
    }
   ],
   "source": [
    "capt_total['Alcaldia'].value_counts()"
   ]
  },
  {
   "cell_type": "code",
   "execution_count": 151,
   "metadata": {},
   "outputs": [],
   "source": [
    "capt_total['Alcaldia'] = capt_total['Alcaldia'].str.title()"
   ]
  },
  {
   "cell_type": "code",
   "execution_count": 158,
   "metadata": {},
   "outputs": [],
   "source": [
    "capt_total.loc[capt_total['Alcaldia']=='Coyoacan', 'Alcaldia']='Coyoacán'\n",
    "capt_total.loc[capt_total['Alcaldia']=='Alvaro Obregon', 'Alcaldia']='Álvaro Obregón'\n",
    "capt_total.loc[capt_total['Alcaldia']=='Tlahuac', 'Alcaldia']='Tláhuac'\n",
    "capt_total.loc[capt_total['Alcaldia']=='Benito Juarez', 'Alcaldia']='Benito Juárez'\n",
    "capt_total.loc[capt_total['Alcaldia'] == 'Cuauhtemoc', 'Alcaldia'] = 'Cuauhtémoc'\n",
    "capt_total.loc[capt_total['Alcaldia'] == 'Magdalena Contreras', 'Alcaldia'] = 'La Magdalena Contreras'"
   ]
  },
  {
   "cell_type": "code",
   "execution_count": 159,
   "metadata": {},
   "outputs": [
    {
     "data": {
      "text/html": [
       "<div>\n",
       "<style scoped>\n",
       "    .dataframe tbody tr th:only-of-type {\n",
       "        vertical-align: middle;\n",
       "    }\n",
       "\n",
       "    .dataframe tbody tr th {\n",
       "        vertical-align: top;\n",
       "    }\n",
       "\n",
       "    .dataframe thead th {\n",
       "        text-align: right;\n",
       "    }\n",
       "</style>\n",
       "<table border=\"1\" class=\"dataframe\">\n",
       "  <thead>\n",
       "    <tr style=\"text-align: right;\">\n",
       "      <th></th>\n",
       "      <th>long</th>\n",
       "      <th>lat</th>\n",
       "      <th>Expediente</th>\n",
       "      <th>Alcaldia</th>\n",
       "      <th>Fecha_de_I</th>\n",
       "      <th>año</th>\n",
       "      <th>Colonia name</th>\n",
       "      <th>alcaldia</th>\n",
       "      <th>alcaldia_id</th>\n",
       "    </tr>\n",
       "  </thead>\n",
       "  <tbody>\n",
       "    <tr>\n",
       "      <th>0</th>\n",
       "      <td>-98.975686</td>\n",
       "      <td>19.328924</td>\n",
       "      <td>J16NRB</td>\n",
       "      <td>Iztapalapa</td>\n",
       "      <td>2019-07-24</td>\n",
       "      <td>2019</td>\n",
       "      <td>Santiago Acahualtepec (Pblo)</td>\n",
       "      <td>NaN</td>\n",
       "      <td>007</td>\n",
       "    </tr>\n",
       "    <tr>\n",
       "      <th>1</th>\n",
       "      <td>-98.970402</td>\n",
       "      <td>19.327016</td>\n",
       "      <td>J5WU9F</td>\n",
       "      <td>Iztapalapa</td>\n",
       "      <td>2019-07-24</td>\n",
       "      <td>2019</td>\n",
       "      <td>Santiago Acahualtepec (Pblo)</td>\n",
       "      <td>NaN</td>\n",
       "      <td>007</td>\n",
       "    </tr>\n",
       "    <tr>\n",
       "      <th>2</th>\n",
       "      <td>-98.969184</td>\n",
       "      <td>19.326854</td>\n",
       "      <td>X4S7RV</td>\n",
       "      <td>Iztapalapa</td>\n",
       "      <td>2019-07-23</td>\n",
       "      <td>2019</td>\n",
       "      <td>Santiago Acahualtepec (Pblo)</td>\n",
       "      <td>NaN</td>\n",
       "      <td>007</td>\n",
       "    </tr>\n",
       "    <tr>\n",
       "      <th>3</th>\n",
       "      <td>-98.995963</td>\n",
       "      <td>19.334764</td>\n",
       "      <td>F5AXVR</td>\n",
       "      <td>Iztapalapa</td>\n",
       "      <td>2019-07-25</td>\n",
       "      <td>2019</td>\n",
       "      <td>Santiago Acahualtepec (Pblo)</td>\n",
       "      <td>NaN</td>\n",
       "      <td>007</td>\n",
       "    </tr>\n",
       "    <tr>\n",
       "      <th>4</th>\n",
       "      <td>-99.006770</td>\n",
       "      <td>19.353941</td>\n",
       "      <td>M8IJD1</td>\n",
       "      <td>Iztapalapa</td>\n",
       "      <td>2019-06-06</td>\n",
       "      <td>2019</td>\n",
       "      <td>Santiago Acahualtepec (Pblo)</td>\n",
       "      <td>NaN</td>\n",
       "      <td>007</td>\n",
       "    </tr>\n",
       "  </tbody>\n",
       "</table>\n",
       "</div>"
      ],
      "text/plain": [
       "        long        lat Expediente    Alcaldia Fecha_de_I   año   \n",
       "0 -98.975686  19.328924     J16NRB  Iztapalapa 2019-07-24  2019  \\\n",
       "1 -98.970402  19.327016     J5WU9F  Iztapalapa 2019-07-24  2019   \n",
       "2 -98.969184  19.326854     X4S7RV  Iztapalapa 2019-07-23  2019   \n",
       "3 -98.995963  19.334764     F5AXVR  Iztapalapa 2019-07-25  2019   \n",
       "4 -99.006770  19.353941     M8IJD1  Iztapalapa 2019-06-06  2019   \n",
       "\n",
       "                   Colonia name alcaldia alcaldia_id  \n",
       "0  Santiago Acahualtepec (Pblo)      NaN         007  \n",
       "1  Santiago Acahualtepec (Pblo)      NaN         007  \n",
       "2  Santiago Acahualtepec (Pblo)      NaN         007  \n",
       "3  Santiago Acahualtepec (Pblo)      NaN         007  \n",
       "4  Santiago Acahualtepec (Pblo)      NaN         007  "
      ]
     },
     "execution_count": 159,
     "metadata": {},
     "output_type": "execute_result"
    }
   ],
   "source": [
    "map_to_alcaldia_id(capt_total, 'Alcaldia')"
   ]
  },
  {
   "cell_type": "code",
   "execution_count": 172,
   "metadata": {},
   "outputs": [
    {
     "data": {
      "text/plain": [
       "colonia id    0.15\n",
       "dtype: float64"
      ]
     },
     "execution_count": 172,
     "metadata": {},
     "output_type": "execute_result"
    }
   ],
   "source": [
    "nancolsper(capt_total)"
   ]
  },
  {
   "cell_type": "code",
   "execution_count": 171,
   "metadata": {},
   "outputs": [],
   "source": [
    "capt_total['colonia id'] = None  \n",
    "\n",
    "for index, row in capt_total.iterrows():\n",
    "     colonia_ba = row['Colonia name']\n",
    "     matching_row = geo[geo['Colonia name'] == colonia_ba]\n",
    "    \n",
    "     if not matching_row.empty:\n",
    "         colonia_id = matching_row['Colonia code'].values[0]\n",
    "         capt_total.at[index, 'colonia id'] = colonia_id\n"
   ]
  },
  {
   "cell_type": "code",
   "execution_count": 175,
   "metadata": {},
   "outputs": [],
   "source": [
    "capt_total.loc[capt_total['Colonia name']=='San Pablo I, Ii Y V-Lomas Del Paraiso', 'colonia id']='07-201'\n",
    "capt_total.loc[capt_total['Colonia name']=='Mesa Los Hornos, Texcaltenco', 'colonia id']='12-094'\n",
    "capt_total.loc[capt_total['Colonia name']=='Ayocatitla, Asunción', 'colonia id']='12-011'\n",
    "capt_total.loc[capt_total['Colonia name']=='Ejto Constitucionalista, Supermanzana Ii (U Hab)', 'colonia id']='07-047'\n",
    "capt_total.loc[capt_total['Colonia name']=='Ejto Constitucionalista, Supermanzana I (U Hab)', 'colonia id']='07-046'"
   ]
  },
  {
   "cell_type": "code",
   "execution_count": 177,
   "metadata": {},
   "outputs": [],
   "source": [
    "capt_total.to_csv('../FINAL/CLEAN/captacion_total_clean.csv', index=False)"
   ]
  }
 ],
 "metadata": {
  "kernelspec": {
   "display_name": "Python 3",
   "language": "python",
   "name": "python3"
  },
  "language_info": {
   "codemirror_mode": {
    "name": "ipython",
    "version": 3
   },
   "file_extension": ".py",
   "mimetype": "text/x-python",
   "name": "python",
   "nbconvert_exporter": "python",
   "pygments_lexer": "ipython3",
   "version": "3.11.2"
  },
  "orig_nbformat": 4
 },
 "nbformat": 4,
 "nbformat_minor": 2
}
