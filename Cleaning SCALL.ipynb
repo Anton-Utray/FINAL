{
 "cells": [
  {
   "attachments": {},
   "cell_type": "markdown",
   "metadata": {},
   "source": [
    "# Cleaning data sets proyectos captura de agua\n",
    "\n",
    "Estos archivos vienen separados por años desde 2019 a 2022. Primero agregaremos una columna de año para cada uno y luego los concatenamos para limpiarlos a la par. \n",
    "\n",
    "Hay muchos nulos en las columnas de colonia y de alcaldía que tenemos que homogenizar para poder tener la info para las 2 escalas"
   ]
  },
  {
   "attachments": {},
   "cell_type": "markdown",
   "metadata": {},
   "source": [
    "### Configuración espacio de trabajo"
   ]
  },
  {
   "cell_type": "code",
   "execution_count": 353,
   "metadata": {},
   "outputs": [],
   "source": [
    "import numpy as np\n",
    "import pandas as pd\n",
    "import re\n",
    "import warnings\n",
    "warnings.filterwarnings('ignore')\n",
    "pd.set_option('display.max_columns', None)\n",
    "pd.set_option('display.max_rows', None)\n",
    "from copy_repo_funciones import *\n",
    "import geopandas as gpd"
   ]
  },
  {
   "attachments": {},
   "cell_type": "markdown",
   "metadata": {},
   "source": [
    "### Empezando\n",
    "\n"
   ]
  },
  {
   "cell_type": "code",
   "execution_count": 355,
   "metadata": {},
   "outputs": [],
   "source": [
    "geo=pd.read_csv('../FINAL/RAW/GEOREF/georef-mexico-colonia.csv', sep=';') #Este archivo contiene el listado de colonias por alcaldia\n",
    "geopandas=gpd.read_file('../FINAL/RAW/GEOREF/georef-mexico-colonia/georef-mexico-colonia-millesime.shp', encoding='utf-8')"
   ]
  },
  {
   "cell_type": "code",
   "execution_count": 356,
   "metadata": {},
   "outputs": [
    {
     "data": {
      "text/html": [
       "<div>\n",
       "<style scoped>\n",
       "    .dataframe tbody tr th:only-of-type {\n",
       "        vertical-align: middle;\n",
       "    }\n",
       "\n",
       "    .dataframe tbody tr th {\n",
       "        vertical-align: top;\n",
       "    }\n",
       "\n",
       "    .dataframe thead th {\n",
       "        text-align: right;\n",
       "    }\n",
       "</style>\n",
       "<table border=\"1\" class=\"dataframe\">\n",
       "  <thead>\n",
       "    <tr style=\"text-align: right;\">\n",
       "      <th></th>\n",
       "      <th>year</th>\n",
       "      <th>sta_code</th>\n",
       "      <th>sta_name</th>\n",
       "      <th>mun_code</th>\n",
       "      <th>mun_name</th>\n",
       "      <th>col_code</th>\n",
       "      <th>col_name</th>\n",
       "      <th>col_area_co</th>\n",
       "      <th>col_type</th>\n",
       "      <th>geometry</th>\n",
       "    </tr>\n",
       "  </thead>\n",
       "  <tbody>\n",
       "    <tr>\n",
       "      <th>0</th>\n",
       "      <td>2022</td>\n",
       "      <td>['09']</td>\n",
       "      <td>['Ciudad de México']</td>\n",
       "      <td>['09002']</td>\n",
       "      <td>['Azcapotzalco']</td>\n",
       "      <td>['02-009']</td>\n",
       "      <td>['Coltongo']</td>\n",
       "      <td>MEX</td>\n",
       "      <td>colonia</td>\n",
       "      <td>POLYGON ((-99.15595 19.48651, -99.15294 19.485...</td>\n",
       "    </tr>\n",
       "    <tr>\n",
       "      <th>1</th>\n",
       "      <td>2022</td>\n",
       "      <td>['09']</td>\n",
       "      <td>['Ciudad de México']</td>\n",
       "      <td>['09003']</td>\n",
       "      <td>['Coyoacán']</td>\n",
       "      <td>['03-006']</td>\n",
       "      <td>['Ampliacion Candelaria']</td>\n",
       "      <td>MEX</td>\n",
       "      <td>colonia</td>\n",
       "      <td>POLYGON ((-99.15265 19.32581, -99.15336 19.326...</td>\n",
       "    </tr>\n",
       "    <tr>\n",
       "      <th>2</th>\n",
       "      <td>2022</td>\n",
       "      <td>['09']</td>\n",
       "      <td>['Ciudad de México']</td>\n",
       "      <td>['09003']</td>\n",
       "      <td>['Coyoacán']</td>\n",
       "      <td>['03-026']</td>\n",
       "      <td>['Croc Culhuacan Secc 6 (U Hab)']</td>\n",
       "      <td>MEX</td>\n",
       "      <td>colonia</td>\n",
       "      <td>POLYGON ((-99.12251 19.32904, -99.12198 19.329...</td>\n",
       "    </tr>\n",
       "    <tr>\n",
       "      <th>3</th>\n",
       "      <td>2022</td>\n",
       "      <td>['09']</td>\n",
       "      <td>['Ciudad de México']</td>\n",
       "      <td>['09003']</td>\n",
       "      <td>['Coyoacán']</td>\n",
       "      <td>['03-072']</td>\n",
       "      <td>['Los Cipreses']</td>\n",
       "      <td>MEX</td>\n",
       "      <td>colonia</td>\n",
       "      <td>POLYGON ((-99.12466 19.31520, -99.12491 19.315...</td>\n",
       "    </tr>\n",
       "    <tr>\n",
       "      <th>4</th>\n",
       "      <td>2022</td>\n",
       "      <td>['09']</td>\n",
       "      <td>['Ciudad de México']</td>\n",
       "      <td>['09004']</td>\n",
       "      <td>['Cuajimalpa de Morelos']</td>\n",
       "      <td>['04-033']</td>\n",
       "      <td>['Lomas Del Chamizal']</td>\n",
       "      <td>MEX</td>\n",
       "      <td>colonia</td>\n",
       "      <td>POLYGON ((-99.26654 19.38314, -99.26658 19.383...</td>\n",
       "    </tr>\n",
       "  </tbody>\n",
       "</table>\n",
       "</div>"
      ],
      "text/plain": [
       "   year sta_code              sta_name   mun_code                   mun_name   \n",
       "0  2022   ['09']  ['Ciudad de México']  ['09002']           ['Azcapotzalco']  \\\n",
       "1  2022   ['09']  ['Ciudad de México']  ['09003']               ['Coyoacán']   \n",
       "2  2022   ['09']  ['Ciudad de México']  ['09003']               ['Coyoacán']   \n",
       "3  2022   ['09']  ['Ciudad de México']  ['09003']               ['Coyoacán']   \n",
       "4  2022   ['09']  ['Ciudad de México']  ['09004']  ['Cuajimalpa de Morelos']   \n",
       "\n",
       "     col_code                           col_name col_area_co col_type   \n",
       "0  ['02-009']                       ['Coltongo']         MEX  colonia  \\\n",
       "1  ['03-006']          ['Ampliacion Candelaria']         MEX  colonia   \n",
       "2  ['03-026']  ['Croc Culhuacan Secc 6 (U Hab)']         MEX  colonia   \n",
       "3  ['03-072']                   ['Los Cipreses']         MEX  colonia   \n",
       "4  ['04-033']             ['Lomas Del Chamizal']         MEX  colonia   \n",
       "\n",
       "                                            geometry  \n",
       "0  POLYGON ((-99.15595 19.48651, -99.15294 19.485...  \n",
       "1  POLYGON ((-99.15265 19.32581, -99.15336 19.326...  \n",
       "2  POLYGON ((-99.12251 19.32904, -99.12198 19.329...  \n",
       "3  POLYGON ((-99.12466 19.31520, -99.12491 19.315...  \n",
       "4  POLYGON ((-99.26654 19.38314, -99.26658 19.383...  "
      ]
     },
     "execution_count": 356,
     "metadata": {},
     "output_type": "execute_result"
    }
   ],
   "source": [
    "geopandas.head()"
   ]
  },
  {
   "cell_type": "code",
   "execution_count": 358,
   "metadata": {},
   "outputs": [],
   "source": [
    "capt_19=pd.read_csv('../FINAL/RAW/SCALL/scall_2019.csv')\n",
    "capt_20=pd.read_csv('../FINAL/RAW/SCALL/scall_2020.csv')\n",
    "capt_21=pd.read_csv('../FINAL/RAW/SCALL/scall_2021.csv')\n",
    "capt_22=pd.read_csv('../FINAL/RAW/SCALL/scall_2022_col.csv') #Este archivo se hizo un cruce con shapely para sacar de las coordenadas para sacar colonia. More on that later "
   ]
  },
  {
   "cell_type": "code",
   "execution_count": 359,
   "metadata": {},
   "outputs": [],
   "source": [
    "capt_19['año']=2019\n",
    "capt_20['año']=2020\n",
    "capt_21['año']=2021\n",
    "capt_22['año']=2022"
   ]
  },
  {
   "attachments": {},
   "cell_type": "markdown",
   "metadata": {},
   "source": [
    "### Shapely para sacar las colonias\n",
    "\n",
    "A la hora de ingresar las colonias hay un gran numero de inconsistencias que va a tardar mucho corregir a mano, por lo tanto vamos a usar Shapely para leer las coordenadas y cruzarlo con los limites de cada colonia para poder asignar el nombre correcto y homogeneo. \n",
    "\n",
    "Esto ya fue ejecutado en un notebook de prueba para 2022 y vamos a hacerlo para los demas aquí. "
   ]
  },
  {
   "cell_type": "code",
   "execution_count": null,
   "metadata": {},
   "outputs": [],
   "source": [
    "#from shapely.geometry import Point, Polygon\n",
    "\n",
    "\n",
    "# for index, row in capt_22.iterrows():\n",
    "#     lat = row['latitud']\n",
    "#     lon = row['longitud']\n",
    "    \n",
    "\n",
    "#     point = Point(lon, lat)\n",
    "    \n",
    "\n",
    "#     colonia_name = None\n",
    "    \n",
    " \n",
    "#     for _, polygon in geo.iterrows():\n",
    "\n",
    "#         if polygon['geometry'].contains(point):\n",
    "\n",
    "#             colonia_name = polygon['col_name']\n",
    "#             break \n",
    "    \n",
    "   \n",
    "#     capt_22.at[index, 'Colonia name'] = colonia_name"
   ]
  },
  {
   "attachments": {},
   "cell_type": "markdown",
   "metadata": {},
   "source": [
    "### Limpiar 22, columna alcaldia que tiene nulos y hay que adecuar la nueva columna de colonias extraidas con shapely"
   ]
  },
  {
   "cell_type": "code",
   "execution_count": 360,
   "metadata": {},
   "outputs": [],
   "source": [
    "capt_22.loc[capt_22['pueblo'] == 'PBO. SANTIAGO TUYLYEHUALCO', 'alcaldia'] = 'Xochimilco'\n",
    "capt_22.loc[capt_22['pueblo'] == 'PUEBLO SAN LORENZO TLACOYUCAN', 'alcaldia'] = 'Milpa Alta'\n",
    "capt_22.loc[capt_22['pueblo'] == 'SAN PABLO OZTOTEPEC', 'alcaldia'] = 'Milpa Alta'\n",
    "capt_22.loc[capt_22['pueblo'] == 'VILLA MILPA ALTA', 'alcaldia'] = 'Milpa Alta'\n",
    "capt_22.loc[capt_22['_id'] == 4275, 'alcaldia'] = 'Tlalpan'  # no tenia pueblo, lo miré por las coordenadas\n",
    "capt_22.loc[capt_22['pueblo'] == 'SAN PEDRO ATOCPAN', 'alcaldia'] = 'Milpa Alta'\n",
    "capt_22.loc[capt_22['pueblo'] == 'PUEBLO SAN FRANCISCO TECOXPA', 'alcaldia'] = 'Milpa Alta'\n",
    "capt_22.loc[capt_22['pueblo'] == 'PUEBLO SAN LORENZO TLACOYUCAN', 'alcaldia'] = 'Milpa Alta'\n",
    "capt_22.loc[capt_22['pueblo'] == 'SANTA ANA TLACOTENCO', 'alcaldia'] = 'Milpa Alta'\n",
    "capt_22.loc[capt_22['pueblo'] == 'PUEBLO SAN BARTOLOME XICOMULCO', 'alcaldia'] = 'Milpa Alta'\n",
    "capt_22.loc[capt_22['pueblo'] == 'PUEBLO SAN SALVADOR CUAUHTENCO', 'alcaldia'] = 'Milpa Alta'\n",
    "capt_22.loc[capt_22['pueblo'] == 'SAN JUAN IXTAYOPAN', 'alcaldia'] = 'Tláhuac'\n",
    "capt_22.loc[capt_22['scall_col'] == 'PUEBLO PARRES EL GUARDA', 'alcaldia'] = 'Tlalpan'\n",
    "capt_22.loc[capt_22['pueblo'] == 'PUEBLO SANTO TOMAS AJUSCO', 'alcaldia'] = 'Tlalpan'\n",
    "capt_22.loc[capt_22['scall_col'] == 'ATOCPA', 'alcaldia'] = 'Tlalpan'\n",
    "capt_22.loc[capt_22['scall_col'] == 'TLALMILLE', 'alcaldia'] = 'Tlalpan'\n",
    "capt_22.loc[capt_22['pueblo'] == 'PUEBLO PARRES EL GUARDA', 'alcaldia'] = 'Tlalpan'\n",
    "capt_22.loc[capt_22['scall_col'] == 'CUCHILLA DEL TESORO', 'alcaldia'] = 'Gustavo A. Madero'\n",
    "capt_22.loc[capt_22['pueblo'] == 'SAN ANTONIO TECOMITL', 'alcaldia'] = 'Milpa Alta'\n",
    "capt_22.loc[capt_22['scall_col'] == 'VISTA HERMOSA', 'alcaldia'] = 'Gustavo A. Madero'\n",
    "capt_22.loc[capt_22['scall_col'] == 'SAN FELIPE DE JESUS', 'alcaldia'] = 'Gustavo A. Madero'\n"
   ]
  },
  {
   "cell_type": "code",
   "execution_count": 371,
   "metadata": {},
   "outputs": [],
   "source": [
    "capt_22['Colonia name'] = capt_22['Colonia name'].str.replace(r\"[\\[\\]']\", '', regex=True) #aqui usamos regex para quitar los brackets y comillas que se añadieron con shapely"
   ]
  },
  {
   "cell_type": "code",
   "execution_count": 376,
   "metadata": {},
   "outputs": [],
   "source": [
    "capt_22.loc[capt_22['Colonia name'] == \"PeÃ±a Alta\", 'Colonia name'] = \"Peña Alta\"\n",
    "capt_22.loc[capt_22['Colonia name'] == \"San Juan 2a AmpliaciÃ³n (Pje)\", 'Colonia name'] = \"San Juan 2a Ampliación (Pje)\"\n",
    "capt_22.loc[capt_22['Colonia name'] == \"Ayocatitla, AsunciÃ³n\", 'Colonia name'] = \"Ayocatitla, Asunción\""
   ]
  },
  {
   "cell_type": "code",
   "execution_count": 381,
   "metadata": {},
   "outputs": [
    {
     "data": {
      "text/plain": [
       "pueblo\n",
       "SAN PEDRO ATOCPAN                 43\n",
       "SAN ANTONIO TECOMITL              25\n",
       "NO APLICA                         12\n",
       "PUEBLO SAN BARTOLOME XICOMULCO    11\n",
       "PUEBLO SAN FRANCISCO TECOXPA       8\n",
       "PUEBLO SAN LORENZO TLACOYUCAN      7\n",
       "SAN PABLO OZTOTEPEC                6\n",
       "VILLA MILPA ALTA                   2\n",
       "SANTA ANA TLACOTENCO               2\n",
       "PUEBLO SAN SALVADOR CUAUHTENCO     2\n",
       "PUEBLO SANTO TOMAS AJUSCO          1\n",
       "Name: count, dtype: int64"
      ]
     },
     "execution_count": 381,
     "metadata": {},
     "output_type": "execute_result"
    }
   ],
   "source": [
    "filtered_df = capt_22.loc[capt_22['Colonia name'].isna()]\n",
    "value_counts = filtered_df['pueblo'].value_counts()\n",
    "value_counts"
   ]
  },
  {
   "cell_type": "code",
   "execution_count": null,
   "metadata": {},
   "outputs": [],
   "source": [
    "capt_22.loc[capt_22['pueblo']=='SAN PEDRO ATOCPAN', 'Colonia name']='San Pedro Atocpan (Pblo)'\n",
    "capt_22.loc[capt_22['pueblo']=='SAN ANTONIO TECOMITL', 'Colonia name']='San Antonio Tecomitl (Pblo)'"
   ]
  },
  {
   "cell_type": "code",
   "execution_count": 377,
   "metadata": {},
   "outputs": [],
   "source": [
    "capt_22.drop('capacidad', axis=1, inplace=True)#Esta medida de capacidad solo viene para 22 y no para los demas\n",
    "capt_22.drop('_id', axis=1, inplace=True) \n",
    "capt_22.drop('scall_col', axis=1, inplace=True) "
   ]
  },
  {
   "cell_type": "code",
   "execution_count": 379,
   "metadata": {},
   "outputs": [],
   "source": [
    "capt_22.drop(columns=['Unnamed: 0','geometry'], axis=1, inplace=True) "
   ]
  },
  {
   "cell_type": "code",
   "execution_count": 380,
   "metadata": {},
   "outputs": [
    {
     "name": "stdout",
     "output_type": "stream",
     "text": [
      "<class 'pandas.core.frame.DataFrame'>\n",
      "RangeIndex: 16971 entries, 0 to 16970\n",
      "Data columns (total 10 columns):\n",
      " #   Column             Non-Null Count  Dtype  \n",
      "---  ------             --------------  -----  \n",
      " 0   expediente         16971 non-null  object \n",
      " 1   pueblo             16971 non-null  object \n",
      " 2   territorial        16971 non-null  object \n",
      " 3   fecha_instalacion  16971 non-null  object \n",
      " 4   alcaldia           16971 non-null  object \n",
      " 5   colonia_datos      15943 non-null  object \n",
      " 6   latitud            16971 non-null  float64\n",
      " 7   longitud           16971 non-null  float64\n",
      " 8   Colonia name       16852 non-null  object \n",
      " 9   año                16971 non-null  int64  \n",
      "dtypes: float64(2), int64(1), object(7)\n",
      "memory usage: 1.3+ MB\n"
     ]
    }
   ],
   "source": [
    "capt_22.info()"
   ]
  },
  {
   "cell_type": "code",
   "execution_count": 325,
   "metadata": {},
   "outputs": [],
   "source": [
    "# SCALL.loc[SCALL['pueblo']=='SAN PABLO OZTOTEPEC', 'colonia_datos']='San Pablo Oztotepec (Pblo)'\n",
    "\n",
    "\n",
    "# SCALL.loc[SCALL['pueblo']=='PBO. SANTIAGO TUYLYEHUALCO', 'colonia_datos']='Santiago Tulyehualco (Pblo)'\n",
    "# SCALL.loc[SCALL['pueblo']=='PUEBLO SAN BARTOLOME XICOMULCO', 'colonia_datos']='San Bartolome Xicomulco (Pblo)'\n",
    "# SCALL.loc[SCALL['pueblo']=='PUEBLO PARRES EL GUARDA', 'colonia_datos']='Parres El Guarda (Pblo)'\n",
    "# SCALL.loc[SCALL['pueblo']=='PUEBLO SAN FRANCISCO TECOXPA', 'colonia_datos']='San Francisco Tecoxpa (Pblo)'\n",
    "# SCALL.loc[SCALL['pueblo']=='PUEBLO SAN LORENZO TLACOYUCAN', 'colonia_datos']='San Lorenzo Tlacoyucan (Pblo)'\n",
    "# SCALL.loc[SCALL['pueblo']=='PUEBLO SAN SALVADOR CUAUHTENCO', 'colonia_datos']='San Salvador Cuauhtenco (Pblo)'\n",
    "# SCALL.loc[SCALL['pueblo']=='VILLA MILPA ALTA', 'colonia_datos']='Villa Milpa Alta (Pblo)'\n",
    "# SCALL.loc[SCALL['pueblo']=='SANTA ANA TLACOTENCO', 'colonia_datos']='Santa Ana Tlacotenco (Pblo)'\n",
    "# SCALL.loc[SCALL['pueblo']=='SAN JUAN IXTAYOPAN', 'colonia_datos']='San Juan Ixtayopan (Pblo)'\n",
    "# SCALL.loc[SCALL['pueblo']=='PUEBLO SANTO TOMAS AJUSCO', 'colonia_datos']='Santo Tomas Ajusco (Pblo)'"
   ]
  },
  {
   "cell_type": "code",
   "execution_count": 326,
   "metadata": {},
   "outputs": [],
   "source": [
    "SCALL['colonia_datos'] = SCALL['colonia_datos'].fillna(SCALL['scall_col'])\n",
    "\n"
   ]
  },
  {
   "cell_type": "code",
   "execution_count": 327,
   "metadata": {},
   "outputs": [
    {
     "name": "stdout",
     "output_type": "stream",
     "text": [
      "<class 'pandas.core.frame.DataFrame'>\n",
      "RangeIndex: 10003 entries, 0 to 10002\n",
      "Data columns (total 10 columns):\n",
      " #   Column      Non-Null Count  Dtype  \n",
      "---  ------      --------------  -----  \n",
      " 0   long        10003 non-null  float64\n",
      " 1   lat         10003 non-null  float64\n",
      " 2   Expediente  10003 non-null  object \n",
      " 3   Pueblo      10003 non-null  object \n",
      " 4   Colonia_Ba  10003 non-null  object \n",
      " 5   Territoria  10003 non-null  object \n",
      " 6   Alcaldia    10003 non-null  object \n",
      " 7   Fecha_de_I  10000 non-null  object \n",
      " 8   Instalado   10003 non-null  object \n",
      " 9   año         10003 non-null  int64  \n",
      "dtypes: float64(2), int64(1), object(7)\n",
      "memory usage: 781.6+ KB\n",
      "<class 'pandas.core.frame.DataFrame'>\n",
      "RangeIndex: 10007 entries, 0 to 10006\n",
      "Data columns (total 10 columns):\n",
      " #   Column      Non-Null Count  Dtype  \n",
      "---  ------      --------------  -----  \n",
      " 0   long        10007 non-null  float64\n",
      " 1   lat         10007 non-null  float64\n",
      " 2   Expediente  10007 non-null  object \n",
      " 3   Pueblo      10007 non-null  object \n",
      " 4   Colonia_Ba  10007 non-null  object \n",
      " 5   Territoria  10007 non-null  object \n",
      " 6   Alcaldia    10007 non-null  object \n",
      " 7   Fecha_de_I  10007 non-null  object \n",
      " 8   Instalado   10007 non-null  object \n",
      " 9   año         10007 non-null  int64  \n",
      "dtypes: float64(2), int64(1), object(7)\n",
      "memory usage: 781.9+ KB\n",
      "<class 'pandas.core.frame.DataFrame'>\n",
      "RangeIndex: 10015 entries, 0 to 10014\n",
      "Data columns (total 10 columns):\n",
      " #   Column      Non-Null Count  Dtype  \n",
      "---  ------      --------------  -----  \n",
      " 0   long        10015 non-null  float64\n",
      " 1   lat         10015 non-null  float64\n",
      " 2   Expediente  10015 non-null  object \n",
      " 3   Pueblo      10015 non-null  object \n",
      " 4   Colonia_Ba  10015 non-null  object \n",
      " 5   Territoria  10015 non-null  object \n",
      " 6   Alcaldia    10015 non-null  object \n",
      " 7   Fecha_de_I  10015 non-null  object \n",
      " 8   Instalado   10015 non-null  object \n",
      " 9   año         10015 non-null  int64  \n",
      "dtypes: float64(2), int64(1), object(7)\n",
      "memory usage: 782.6+ KB\n",
      "<class 'pandas.core.frame.DataFrame'>\n",
      "RangeIndex: 16971 entries, 0 to 16970\n",
      "Data columns (total 12 columns):\n",
      " #   Column             Non-Null Count  Dtype  \n",
      "---  ------             --------------  -----  \n",
      " 0   _id                16971 non-null  int64  \n",
      " 1   expediente         16971 non-null  object \n",
      " 2   pueblo             16971 non-null  object \n",
      " 3   scall_col          16971 non-null  object \n",
      " 4   territorial        16971 non-null  object \n",
      " 5   fecha_instalacion  16971 non-null  object \n",
      " 6   capacidad          16971 non-null  int64  \n",
      " 7   alcaldia           16971 non-null  object \n",
      " 8   colonia_datos      16971 non-null  object \n",
      " 9   latitud            16971 non-null  float64\n",
      " 10  longitud           16971 non-null  float64\n",
      " 11  año                16971 non-null  int64  \n",
      "dtypes: float64(2), int64(3), object(7)\n",
      "memory usage: 1.6+ MB\n"
     ]
    },
    {
     "data": {
      "text/plain": [
       "(None, None, None, None)"
      ]
     },
     "execution_count": 327,
     "metadata": {},
     "output_type": "execute_result"
    }
   ],
   "source": [
    "capt_19.info(), capt_20.info(), capt_21.info(), SCALL.info() #22 tiene estru distinta"
   ]
  },
  {
   "cell_type": "code",
   "execution_count": 329,
   "metadata": {},
   "outputs": [],
   "source": [
    "capt_total=pd.concat([capt_19,capt_20, capt_21],axis=0)"
   ]
  },
  {
   "cell_type": "code",
   "execution_count": 330,
   "metadata": {},
   "outputs": [],
   "source": [
    "capt_total.drop('Instalado', axis=1, inplace=True)"
   ]
  },
  {
   "cell_type": "code",
   "execution_count": 331,
   "metadata": {},
   "outputs": [],
   "source": [
    "capt_22=SCALL.reindex(columns=['longitud', 'latitud', 'expediente', 'pueblo', 'colonia_datos', 'territorial', 'alcaldia', 'fecha_instalacion', 'año'])"
   ]
  },
  {
   "cell_type": "code",
   "execution_count": 332,
   "metadata": {},
   "outputs": [],
   "source": [
    "capt_22.columns= capt_total.columns"
   ]
  },
  {
   "cell_type": "code",
   "execution_count": 333,
   "metadata": {},
   "outputs": [],
   "source": [
    "capt_total=pd.concat([capt_total, capt_22])"
   ]
  },
  {
   "cell_type": "code",
   "execution_count": 334,
   "metadata": {},
   "outputs": [
    {
     "data": {
      "text/plain": [
       "(46996, 9)"
      ]
     },
     "execution_count": 334,
     "metadata": {},
     "output_type": "execute_result"
    }
   ],
   "source": [
    "capt_total.shape"
   ]
  },
  {
   "cell_type": "code",
   "execution_count": 335,
   "metadata": {},
   "outputs": [],
   "source": [
    "capt_total.drop('Territoria', axis=1, inplace=True)"
   ]
  },
  {
   "cell_type": "code",
   "execution_count": 336,
   "metadata": {},
   "outputs": [
    {
     "name": "stdout",
     "output_type": "stream",
     "text": [
      "<class 'pandas.core.frame.DataFrame'>\n",
      "Index: 46996 entries, 0 to 16970\n",
      "Data columns (total 8 columns):\n",
      " #   Column      Non-Null Count  Dtype  \n",
      "---  ------      --------------  -----  \n",
      " 0   long        46996 non-null  float64\n",
      " 1   lat         46996 non-null  float64\n",
      " 2   Expediente  46996 non-null  object \n",
      " 3   Pueblo      46996 non-null  object \n",
      " 4   Colonia_Ba  46996 non-null  object \n",
      " 5   Alcaldia    46996 non-null  object \n",
      " 6   Fecha_de_I  46993 non-null  object \n",
      " 7   año         46996 non-null  int64  \n",
      "dtypes: float64(2), int64(1), object(5)\n",
      "memory usage: 3.2+ MB\n"
     ]
    }
   ],
   "source": [
    "capt_total.info()"
   ]
  },
  {
   "cell_type": "code",
   "execution_count": 337,
   "metadata": {},
   "outputs": [],
   "source": [
    "capt_total['Colonia_Ba'] = capt_total['Colonia_Ba'].str.title()\n",
    "capt_total['Colonia_Ba'] = capt_total['Colonia_Ba'].str.rstrip()\n",
    "capt_total['Colonia_Ba'] = capt_total['Colonia_Ba'].str.lstrip()"
   ]
  },
  {
   "cell_type": "code",
   "execution_count": 338,
   "metadata": {},
   "outputs": [],
   "source": [
    "mask = capt_total['Colonia_Ba'].str.contains('Pueblo')\n",
    "capt_total['Colonia_Ba'] = np.where(mask, capt_total['Colonia_Ba'].str.replace('Pueblo', '') + ' (Pblo)', capt_total['Colonia_Ba'])"
   ]
  },
  {
   "cell_type": "code",
   "execution_count": 339,
   "metadata": {},
   "outputs": [],
   "source": [
    "capt_total['Colonia_Ba'] = capt_total['Colonia_Ba'].str.rstrip()\n",
    "capt_total['Colonia_Ba'] = capt_total['Colonia_Ba'].str.lstrip()\n"
   ]
  },
  {
   "cell_type": "code",
   "execution_count": 340,
   "metadata": {},
   "outputs": [],
   "source": [
    "#capt_total['Colonia_Ba'].value_counts()\n",
    "#col_unique_counts(capt_total, 'Colonia_Ba')"
   ]
  },
  {
   "cell_type": "code",
   "execution_count": 341,
   "metadata": {},
   "outputs": [],
   "source": [
    "# capt_total['colonia id'] = None  \n",
    "\n",
    "# for index, row in capt_total.iterrows():\n",
    "#     colonia_ba = row['Colonia_Ba']\n",
    "#     matching_row = geo[geo['Colonia name'] == colonia_ba]\n",
    "    \n",
    "#     if not matching_row.empty:\n",
    "#         colonia_id = matching_row['Colonia code'].values[0]\n",
    "#         capt_total.at[index, 'colonia id'] = colonia_id\n"
   ]
  },
  {
   "cell_type": "code",
   "execution_count": 342,
   "metadata": {},
   "outputs": [],
   "source": [
    "# capt_total = capt_total.dropna(subset=['colonia id'])\n",
    "# capt_total = capt_total.dropna(subset=['Fecha_de_I'])"
   ]
  },
  {
   "cell_type": "code",
   "execution_count": 350,
   "metadata": {},
   "outputs": [],
   "source": [
    "#capt_total.loc[capt_total['colonia id'] == '09-012', 'Colonia_Ba'].value_counts()\n"
   ]
  },
  {
   "cell_type": "code",
   "execution_count": null,
   "metadata": {},
   "outputs": [],
   "source": []
  },
  {
   "cell_type": "code",
   "execution_count": 364,
   "metadata": {},
   "outputs": [],
   "source": [
    "#col_unique_counts(capt_total, 'colonia id')"
   ]
  },
  {
   "cell_type": "code",
   "execution_count": 345,
   "metadata": {},
   "outputs": [
    {
     "data": {
      "text/plain": [
       "Series([], dtype: float64)"
      ]
     },
     "execution_count": 345,
     "metadata": {},
     "output_type": "execute_result"
    }
   ],
   "source": [
    "nancolsper(capt_total)"
   ]
  },
  {
   "cell_type": "code",
   "execution_count": 346,
   "metadata": {},
   "outputs": [
    {
     "ename": "NameError",
     "evalue": "name 'Para' is not defined",
     "output_type": "error",
     "traceback": [
      "\u001b[1;31m---------------------------------------------------------------------------\u001b[0m",
      "\u001b[1;31mNameError\u001b[0m                                 Traceback (most recent call last)",
      "Cell \u001b[1;32mIn[346], line 1\u001b[0m\n\u001b[1;32m----> 1\u001b[0m Para\n",
      "\u001b[1;31mNameError\u001b[0m: name 'Para' is not defined"
     ]
    }
   ],
   "source": [
    "Para"
   ]
  },
  {
   "cell_type": "code",
   "execution_count": null,
   "metadata": {},
   "outputs": [
    {
     "data": {
      "text/html": [
       "<div>\n",
       "<style scoped>\n",
       "    .dataframe tbody tr th:only-of-type {\n",
       "        vertical-align: middle;\n",
       "    }\n",
       "\n",
       "    .dataframe tbody tr th {\n",
       "        vertical-align: top;\n",
       "    }\n",
       "\n",
       "    .dataframe thead th {\n",
       "        text-align: right;\n",
       "    }\n",
       "</style>\n",
       "<table border=\"1\" class=\"dataframe\">\n",
       "  <thead>\n",
       "    <tr style=\"text-align: right;\">\n",
       "      <th></th>\n",
       "      <th>Alcaldia</th>\n",
       "      <th>Count</th>\n",
       "    </tr>\n",
       "  </thead>\n",
       "  <tbody>\n",
       "    <tr>\n",
       "      <th>0</th>\n",
       "      <td>IZTAPALAPA</td>\n",
       "      <td>9486</td>\n",
       "    </tr>\n",
       "    <tr>\n",
       "      <th>1</th>\n",
       "      <td>Milpa Alta</td>\n",
       "      <td>8141</td>\n",
       "    </tr>\n",
       "    <tr>\n",
       "      <th>2</th>\n",
       "      <td>TLAHUAC</td>\n",
       "      <td>8004</td>\n",
       "    </tr>\n",
       "    <tr>\n",
       "      <th>3</th>\n",
       "      <td>TLALPAN</td>\n",
       "      <td>6160</td>\n",
       "    </tr>\n",
       "    <tr>\n",
       "      <th>4</th>\n",
       "      <td>XOCHIMILCO</td>\n",
       "      <td>5931</td>\n",
       "    </tr>\n",
       "    <tr>\n",
       "      <th>5</th>\n",
       "      <td>MILPA ALTA</td>\n",
       "      <td>3867</td>\n",
       "    </tr>\n",
       "    <tr>\n",
       "      <th>6</th>\n",
       "      <td>GUSTAVO A. MADERO</td>\n",
       "      <td>1631</td>\n",
       "    </tr>\n",
       "    <tr>\n",
       "      <th>7</th>\n",
       "      <td>MAGDALENA CONTRERAS</td>\n",
       "      <td>1100</td>\n",
       "    </tr>\n",
       "    <tr>\n",
       "      <th>8</th>\n",
       "      <td>Tlalpan</td>\n",
       "      <td>601</td>\n",
       "    </tr>\n",
       "    <tr>\n",
       "      <th>9</th>\n",
       "      <td>AZCAPOTZALCO</td>\n",
       "      <td>503</td>\n",
       "    </tr>\n",
       "    <tr>\n",
       "      <th>10</th>\n",
       "      <td>COYOACAN</td>\n",
       "      <td>451</td>\n",
       "    </tr>\n",
       "    <tr>\n",
       "      <th>11</th>\n",
       "      <td>Tláhuac</td>\n",
       "      <td>391</td>\n",
       "    </tr>\n",
       "    <tr>\n",
       "      <th>12</th>\n",
       "      <td>Xochimilco</td>\n",
       "      <td>391</td>\n",
       "    </tr>\n",
       "    <tr>\n",
       "      <th>13</th>\n",
       "      <td>Gustavo A. Madero</td>\n",
       "      <td>339</td>\n",
       "    </tr>\n",
       "  </tbody>\n",
       "</table>\n",
       "</div>"
      ],
      "text/plain": [
       "               Alcaldia  Count\n",
       "0            IZTAPALAPA   9486\n",
       "1            Milpa Alta   8141\n",
       "2               TLAHUAC   8004\n",
       "3               TLALPAN   6160\n",
       "4            XOCHIMILCO   5931\n",
       "5            MILPA ALTA   3867\n",
       "6     GUSTAVO A. MADERO   1631\n",
       "7   MAGDALENA CONTRERAS   1100\n",
       "8               Tlalpan    601\n",
       "9          AZCAPOTZALCO    503\n",
       "10             COYOACAN    451\n",
       "11              Tláhuac    391\n",
       "12           Xochimilco    391\n",
       "13    Gustavo A. Madero    339"
      ]
     },
     "execution_count": 170,
     "metadata": {},
     "output_type": "execute_result"
    }
   ],
   "source": [
    "col_unique_counts(capt_total, 'Alcaldia')"
   ]
  },
  {
   "cell_type": "code",
   "execution_count": null,
   "metadata": {},
   "outputs": [
    {
     "data": {
      "text/plain": [
       "Fecha_de_I    3\n",
       "dtype: int64"
      ]
     },
     "execution_count": 169,
     "metadata": {},
     "output_type": "execute_result"
    }
   ],
   "source": [
    "nancols(capt_total)"
   ]
  }
 ],
 "metadata": {
  "kernelspec": {
   "display_name": "Python 3",
   "language": "python",
   "name": "python3"
  },
  "language_info": {
   "codemirror_mode": {
    "name": "ipython",
    "version": 3
   },
   "file_extension": ".py",
   "mimetype": "text/x-python",
   "name": "python",
   "nbconvert_exporter": "python",
   "pygments_lexer": "ipython3",
   "version": "3.11.2"
  },
  "orig_nbformat": 4
 },
 "nbformat": 4,
 "nbformat_minor": 2
}
